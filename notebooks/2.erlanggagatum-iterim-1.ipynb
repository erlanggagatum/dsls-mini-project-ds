{
 "cells": [
  {
   "attachments": {},
   "cell_type": "markdown",
   "metadata": {},
   "source": [
    "# Feature Engineering"
   ]
  },
  {
   "cell_type": "code",
   "execution_count": 1,
   "metadata": {},
   "outputs": [],
   "source": [
    "import pandas as pd\n",
    "import numpy as np\n",
    "from plotnine import *\n",
    "import shapely.geometry\n",
    "import shapely.wkt\n",
    "from shapely import wkt\n",
    "import geopandas as gpd\n",
    "from datetime import datetime\n",
    "\n",
    "import s\n",
    "\n",
    "import folium\n",
    "import matplotlib\n",
    "import mapclassify"
   ]
  },
  {
   "cell_type": "code",
   "execution_count": 2,
   "metadata": {},
   "outputs": [],
   "source": [
    "PATH_RAW = '../data/raw/'\n",
    "PATH_INTERIM = '../data/interim/'"
   ]
  },
  {
   "cell_type": "code",
   "execution_count": 141,
   "metadata": {},
   "outputs": [],
   "source": [
    "# 50th Percentile\n",
    "def q50(x):\n",
    "    return x.quantile(0.5)\n",
    "def q75(x):\n",
    "    return x.quantile(0.75)\n",
    "def q25(x):\n",
    "    return x.quantile(0.25)"
   ]
  },
  {
   "attachments": {},
   "cell_type": "markdown",
   "metadata": {},
   "source": [
    "## Start Data Engineering"
   ]
  },
  {
   "attachments": {},
   "cell_type": "markdown",
   "metadata": {},
   "source": [
    "### Aggregate median jams kota bandung"
   ]
  },
  {
   "cell_type": "code",
   "execution_count": 4,
   "metadata": {},
   "outputs": [],
   "source": [
    "df1 = pd.read_csv(PATH_RAW+\"aggregate_median_jams_Kota Bandung_fixed.csv\")\n",
    "# df2 = pd.read_csv(PATH_RAW+\"aggregate_median_jams_Kota Bandung_fixed.csv\")"
   ]
  },
  {
   "cell_type": "code",
   "execution_count": 5,
   "metadata": {},
   "outputs": [
    {
     "data": {
      "text/html": [
       "<div>\n",
       "<style scoped>\n",
       "    .dataframe tbody tr th:only-of-type {\n",
       "        vertical-align: middle;\n",
       "    }\n",
       "\n",
       "    .dataframe tbody tr th {\n",
       "        vertical-align: top;\n",
       "    }\n",
       "\n",
       "    .dataframe thead th {\n",
       "        text-align: right;\n",
       "    }\n",
       "</style>\n",
       "<table border=\"1\" class=\"dataframe\">\n",
       "  <thead>\n",
       "    <tr style=\"text-align: right;\">\n",
       "      <th></th>\n",
       "      <th>Unnamed: 0</th>\n",
       "      <th>time</th>\n",
       "      <th>kemendagri_kabupaten_kode</th>\n",
       "      <th>kemendagri_kabupaten_nama</th>\n",
       "      <th>street</th>\n",
       "      <th>level</th>\n",
       "      <th>median_length</th>\n",
       "      <th>median_delay</th>\n",
       "      <th>median_speed_kmh</th>\n",
       "      <th>total_records</th>\n",
       "      <th>id</th>\n",
       "      <th>date</th>\n",
       "      <th>median_level</th>\n",
       "      <th>geometry</th>\n",
       "    </tr>\n",
       "  </thead>\n",
       "  <tbody>\n",
       "    <tr>\n",
       "      <th>7558</th>\n",
       "      <td>2415</td>\n",
       "      <td>2022-07-07 14:00:00.000</td>\n",
       "      <td>32.73</td>\n",
       "      <td>KOTA BANDUNG</td>\n",
       "      <td>Jalan Serayu</td>\n",
       "      <td>4</td>\n",
       "      <td>214.0</td>\n",
       "      <td>112.0</td>\n",
       "      <td>4.85</td>\n",
       "      <td>6</td>\n",
       "      <td>33538914</td>\n",
       "      <td>2022-07-07</td>\n",
       "      <td>4.0</td>\n",
       "      <td>MULTILINESTRING ((107.627041 -6.90859, 107.625...</td>\n",
       "    </tr>\n",
       "    <tr>\n",
       "      <th>135630</th>\n",
       "      <td>117763</td>\n",
       "      <td>2022-08-02 05:00:00.000</td>\n",
       "      <td>32.73</td>\n",
       "      <td>KOTA BANDUNG</td>\n",
       "      <td>N11 Flyover Kopo-Cibaduyut</td>\n",
       "      <td>5</td>\n",
       "      <td>1194.0</td>\n",
       "      <td>-1.0</td>\n",
       "      <td>0.00</td>\n",
       "      <td>120</td>\n",
       "      <td>35215658</td>\n",
       "      <td>2022-08-02</td>\n",
       "      <td>5.0</td>\n",
       "      <td>MULTILINESTRING ((107.597781 -6.94756, 107.596...</td>\n",
       "    </tr>\n",
       "    <tr>\n",
       "      <th>249941</th>\n",
       "      <td>100063</td>\n",
       "      <td>2022-08-26 08:00:00.000</td>\n",
       "      <td>32.73</td>\n",
       "      <td>KOTA BANDUNG</td>\n",
       "      <td>Sukajadi</td>\n",
       "      <td>1</td>\n",
       "      <td>1961.0</td>\n",
       "      <td>97.0</td>\n",
       "      <td>25.42</td>\n",
       "      <td>6</td>\n",
       "      <td>36641320</td>\n",
       "      <td>2022-08-26</td>\n",
       "      <td>1.0</td>\n",
       "      <td>MULTILINESTRING ((107.597341 -6.896948, 107.59...</td>\n",
       "    </tr>\n",
       "    <tr>\n",
       "      <th>167903</th>\n",
       "      <td>18025</td>\n",
       "      <td>2022-08-09 13:00:00.000</td>\n",
       "      <td>32.73</td>\n",
       "      <td>KOTA BANDUNG</td>\n",
       "      <td>KH Wahid Hasyim</td>\n",
       "      <td>2</td>\n",
       "      <td>1008.0</td>\n",
       "      <td>99.5</td>\n",
       "      <td>17.32</td>\n",
       "      <td>58</td>\n",
       "      <td>35680184</td>\n",
       "      <td>2022-08-09</td>\n",
       "      <td>2.0</td>\n",
       "      <td>MULTILINESTRING ((107.58792 -6.948258, 107.586...</td>\n",
       "    </tr>\n",
       "    <tr>\n",
       "      <th>268575</th>\n",
       "      <td>118697</td>\n",
       "      <td>2022-08-29 14:00:00.000</td>\n",
       "      <td>32.73</td>\n",
       "      <td>KOTA BANDUNG</td>\n",
       "      <td>Haji Tatang Sumantri</td>\n",
       "      <td>4</td>\n",
       "      <td>209.0</td>\n",
       "      <td>182.0</td>\n",
       "      <td>3.19</td>\n",
       "      <td>23</td>\n",
       "      <td>36850546</td>\n",
       "      <td>2022-08-29</td>\n",
       "      <td>4.0</td>\n",
       "      <td>MULTILINESTRING ((107.609761 -6.954935, 107.61...</td>\n",
       "    </tr>\n",
       "  </tbody>\n",
       "</table>\n",
       "</div>"
      ],
      "text/plain": [
       "        Unnamed: 0                     time  kemendagri_kabupaten_kode  \\\n",
       "7558          2415  2022-07-07 14:00:00.000                      32.73   \n",
       "135630      117763  2022-08-02 05:00:00.000                      32.73   \n",
       "249941      100063  2022-08-26 08:00:00.000                      32.73   \n",
       "167903       18025  2022-08-09 13:00:00.000                      32.73   \n",
       "268575      118697  2022-08-29 14:00:00.000                      32.73   \n",
       "\n",
       "       kemendagri_kabupaten_nama                      street  level  \\\n",
       "7558                KOTA BANDUNG                Jalan Serayu      4   \n",
       "135630              KOTA BANDUNG  N11 Flyover Kopo-Cibaduyut      5   \n",
       "249941              KOTA BANDUNG                    Sukajadi      1   \n",
       "167903              KOTA BANDUNG             KH Wahid Hasyim      2   \n",
       "268575              KOTA BANDUNG        Haji Tatang Sumantri      4   \n",
       "\n",
       "        median_length  median_delay  median_speed_kmh  total_records  \\\n",
       "7558            214.0         112.0              4.85              6   \n",
       "135630         1194.0          -1.0              0.00            120   \n",
       "249941         1961.0          97.0             25.42              6   \n",
       "167903         1008.0          99.5             17.32             58   \n",
       "268575          209.0         182.0              3.19             23   \n",
       "\n",
       "              id        date  median_level  \\\n",
       "7558    33538914  2022-07-07           4.0   \n",
       "135630  35215658  2022-08-02           5.0   \n",
       "249941  36641320  2022-08-26           1.0   \n",
       "167903  35680184  2022-08-09           2.0   \n",
       "268575  36850546  2022-08-29           4.0   \n",
       "\n",
       "                                                 geometry  \n",
       "7558    MULTILINESTRING ((107.627041 -6.90859, 107.625...  \n",
       "135630  MULTILINESTRING ((107.597781 -6.94756, 107.596...  \n",
       "249941  MULTILINESTRING ((107.597341 -6.896948, 107.59...  \n",
       "167903  MULTILINESTRING ((107.58792 -6.948258, 107.586...  \n",
       "268575  MULTILINESTRING ((107.609761 -6.954935, 107.61...  "
      ]
     },
     "execution_count": 5,
     "metadata": {},
     "output_type": "execute_result"
    }
   ],
   "source": [
    "df1.sample(5)"
   ]
  },
  {
   "cell_type": "code",
   "execution_count": 6,
   "metadata": {},
   "outputs": [
    {
     "name": "stdout",
     "output_type": "stream",
     "text": [
      "<class 'pandas.core.frame.DataFrame'>\n",
      "RangeIndex: 301995 entries, 0 to 301994\n",
      "Data columns (total 14 columns):\n",
      " #   Column                     Non-Null Count   Dtype  \n",
      "---  ------                     --------------   -----  \n",
      " 0   Unnamed: 0                 301995 non-null  int64  \n",
      " 1   time                       301995 non-null  object \n",
      " 2   kemendagri_kabupaten_kode  301995 non-null  float64\n",
      " 3   kemendagri_kabupaten_nama  301995 non-null  object \n",
      " 4   street                     299552 non-null  object \n",
      " 5   level                      301995 non-null  int64  \n",
      " 6   median_length              301995 non-null  float64\n",
      " 7   median_delay               301995 non-null  float64\n",
      " 8   median_speed_kmh           301995 non-null  float64\n",
      " 9   total_records              301995 non-null  int64  \n",
      " 10  id                         301995 non-null  int64  \n",
      " 11  date                       301995 non-null  object \n",
      " 12  median_level               301995 non-null  float64\n",
      " 13  geometry                   301995 non-null  object \n",
      "dtypes: float64(5), int64(4), object(5)\n",
      "memory usage: 32.3+ MB\n"
     ]
    }
   ],
   "source": [
    "df1.info()"
   ]
  },
  {
   "attachments": {},
   "cell_type": "markdown",
   "metadata": {},
   "source": [
    "### Time"
   ]
  },
  {
   "cell_type": "code",
   "execution_count": 7,
   "metadata": {},
   "outputs": [],
   "source": [
    "df1.time = pd.to_datetime(df1.time)"
   ]
  },
  {
   "cell_type": "code",
   "execution_count": 8,
   "metadata": {},
   "outputs": [],
   "source": [
    "df1['thm'] = [str(time.hour) + \":\" + str(time.minute) for time in df1.time]\n"
   ]
  },
  {
   "cell_type": "code",
   "execution_count": 14,
   "metadata": {},
   "outputs": [
    {
     "name": "stdout",
     "output_type": "stream",
     "text": [
      "cols: Index(['Unnamed: 0', 'time', 'kemendagri_kabupaten_kode',\n",
      "       'kemendagri_kabupaten_nama', 'street', 'level', 'median_length',\n",
      "       'median_delay', 'median_speed_kmh', 'total_records', 'id', 'date',\n",
      "       'median_level', 'geometry', 'thm'],\n",
      "      dtype='object')\n",
      "thm: {'3:0', '23:0', '12:0', '5:0', '15:0', '11:0', '7:0', '8:0', '1:0', '2:0', '13:0', '17:0', '19:0', '22:0', '9:0', '4:0', '20:0', '10:0', '21:0', '6:0', '16:0', '0:0', '14:0', '18:0'}\n"
     ]
    }
   ],
   "source": [
    "print(\"cols:\", df1.columns)\n",
    "print(\"thm:\",set(df1.thm))"
   ]
  },
  {
   "attachments": {},
   "cell_type": "markdown",
   "metadata": {},
   "source": [
    "### Date\n",
    "Holiday and weekend"
   ]
  },
  {
   "cell_type": "code",
   "execution_count": 21,
   "metadata": {},
   "outputs": [],
   "source": [
    "df1.date = pd.to_datetime(df1.date)"
   ]
  },
  {
   "cell_type": "code",
   "execution_count": 59,
   "metadata": {},
   "outputs": [],
   "source": [
    "libur = [\n",
    "  pd.Timestamp('2022-07-08'),\n",
    "  pd.Timestamp('2022-07-30'),\n",
    "  pd.Timestamp('2022-08-17'),\n",
    "]\n",
    "\n",
    "is_holiday = []\n",
    "is_weekend = []\n",
    "for date in df1.date:\n",
    "  if date in libur or date.dayofweek in [5,6]:\n",
    "    is_holiday.append(1)\n",
    "  else:\n",
    "    is_holiday.append(0)\n",
    "\n",
    "  if date.dayofweek in [5,6]:\n",
    "    is_weekend.append(1)\n",
    "  else:\n",
    "    is_weekend.append(0)"
   ]
  },
  {
   "cell_type": "code",
   "execution_count": 71,
   "metadata": {},
   "outputs": [],
   "source": [
    "df1['is_weekend'] = is_weekend\n",
    "df1['is_holiday'] = is_holiday"
   ]
  },
  {
   "cell_type": "code",
   "execution_count": 73,
   "metadata": {},
   "outputs": [
    {
     "data": {
      "text/html": [
       "<div>\n",
       "<style scoped>\n",
       "    .dataframe tbody tr th:only-of-type {\n",
       "        vertical-align: middle;\n",
       "    }\n",
       "\n",
       "    .dataframe tbody tr th {\n",
       "        vertical-align: top;\n",
       "    }\n",
       "\n",
       "    .dataframe thead th {\n",
       "        text-align: right;\n",
       "    }\n",
       "</style>\n",
       "<table border=\"1\" class=\"dataframe\">\n",
       "  <thead>\n",
       "    <tr style=\"text-align: right;\">\n",
       "      <th></th>\n",
       "      <th>Unnamed: 0</th>\n",
       "      <th>time</th>\n",
       "      <th>kemendagri_kabupaten_kode</th>\n",
       "      <th>kemendagri_kabupaten_nama</th>\n",
       "      <th>street</th>\n",
       "      <th>level</th>\n",
       "      <th>median_length</th>\n",
       "      <th>median_delay</th>\n",
       "      <th>median_speed_kmh</th>\n",
       "      <th>total_records</th>\n",
       "      <th>id</th>\n",
       "      <th>date</th>\n",
       "      <th>median_level</th>\n",
       "      <th>geometry</th>\n",
       "      <th>thm</th>\n",
       "      <th>is_weekend</th>\n",
       "      <th>is_holiday</th>\n",
       "    </tr>\n",
       "  </thead>\n",
       "  <tbody>\n",
       "    <tr>\n",
       "      <th>145847</th>\n",
       "      <td>127980</td>\n",
       "      <td>2022-08-04 07:00:00</td>\n",
       "      <td>32.73</td>\n",
       "      <td>KOTA BANDUNG</td>\n",
       "      <td>Jalan Belitung</td>\n",
       "      <td>2</td>\n",
       "      <td>497.0</td>\n",
       "      <td>68.0</td>\n",
       "      <td>12.920</td>\n",
       "      <td>1</td>\n",
       "      <td>35331725</td>\n",
       "      <td>2022-08-04</td>\n",
       "      <td>2.0</td>\n",
       "      <td>LINESTRING (107.617605 -6.911498, 107.616168 -...</td>\n",
       "      <td>7:0</td>\n",
       "      <td>0</td>\n",
       "      <td>0</td>\n",
       "    </tr>\n",
       "    <tr>\n",
       "      <th>203115</th>\n",
       "      <td>53237</td>\n",
       "      <td>2022-08-16 10:00:00</td>\n",
       "      <td>32.73</td>\n",
       "      <td>KOTA BANDUNG</td>\n",
       "      <td>Trunojoyo</td>\n",
       "      <td>2</td>\n",
       "      <td>782.0</td>\n",
       "      <td>81.0</td>\n",
       "      <td>15.325</td>\n",
       "      <td>10</td>\n",
       "      <td>36092837</td>\n",
       "      <td>2022-08-16</td>\n",
       "      <td>2.0</td>\n",
       "      <td>MULTILINESTRING ((107.612808 -6.907011, 107.61...</td>\n",
       "      <td>10:0</td>\n",
       "      <td>0</td>\n",
       "      <td>0</td>\n",
       "    </tr>\n",
       "  </tbody>\n",
       "</table>\n",
       "</div>"
      ],
      "text/plain": [
       "        Unnamed: 0                time  kemendagri_kabupaten_kode  \\\n",
       "145847      127980 2022-08-04 07:00:00                      32.73   \n",
       "203115       53237 2022-08-16 10:00:00                      32.73   \n",
       "\n",
       "       kemendagri_kabupaten_nama          street  level  median_length  \\\n",
       "145847              KOTA BANDUNG  Jalan Belitung      2          497.0   \n",
       "203115              KOTA BANDUNG       Trunojoyo      2          782.0   \n",
       "\n",
       "        median_delay  median_speed_kmh  total_records        id       date  \\\n",
       "145847          68.0            12.920              1  35331725 2022-08-04   \n",
       "203115          81.0            15.325             10  36092837 2022-08-16   \n",
       "\n",
       "        median_level                                           geometry   thm  \\\n",
       "145847           2.0  LINESTRING (107.617605 -6.911498, 107.616168 -...   7:0   \n",
       "203115           2.0  MULTILINESTRING ((107.612808 -6.907011, 107.61...  10:0   \n",
       "\n",
       "        is_weekend  is_holiday  \n",
       "145847           0           0  \n",
       "203115           0           0  "
      ]
     },
     "execution_count": 73,
     "metadata": {},
     "output_type": "execute_result"
    }
   ],
   "source": [
    "df1.sample(2)"
   ]
  },
  {
   "attachments": {},
   "cell_type": "markdown",
   "metadata": {},
   "source": [
    "### Hours"
   ]
  },
  {
   "cell_type": "code",
   "execution_count": 75,
   "metadata": {},
   "outputs": [],
   "source": [
    "df1['hour'] = [time.hour for time in df1.time]"
   ]
  },
  {
   "cell_type": "code",
   "execution_count": 108,
   "metadata": {},
   "outputs": [
    {
     "data": {
      "text/html": [
       "<div>\n",
       "<style scoped>\n",
       "    .dataframe tbody tr th:only-of-type {\n",
       "        vertical-align: middle;\n",
       "    }\n",
       "\n",
       "    .dataframe tbody tr th {\n",
       "        vertical-align: top;\n",
       "    }\n",
       "\n",
       "    .dataframe thead th {\n",
       "        text-align: right;\n",
       "    }\n",
       "</style>\n",
       "<table border=\"1\" class=\"dataframe\">\n",
       "  <thead>\n",
       "    <tr style=\"text-align: right;\">\n",
       "      <th></th>\n",
       "      <th>hour</th>\n",
       "      <th>sum</th>\n",
       "    </tr>\n",
       "  </thead>\n",
       "  <tbody>\n",
       "    <tr>\n",
       "      <th>19</th>\n",
       "      <td>19</td>\n",
       "      <td>1295406723</td>\n",
       "    </tr>\n",
       "    <tr>\n",
       "      <th>14</th>\n",
       "      <td>14</td>\n",
       "      <td>1741893484</td>\n",
       "    </tr>\n",
       "  </tbody>\n",
       "</table>\n",
       "</div>"
      ],
      "text/plain": [
       "    hour         sum\n",
       "19    19  1295406723\n",
       "14    14  1741893484"
      ]
     },
     "execution_count": 108,
     "metadata": {},
     "output_type": "execute_result"
    }
   ],
   "source": [
    "cnt_report = df1.groupby('hour').sum('total_records').reset_index().iloc[:,0:2]\n",
    "cnt_report.columns = ['hour','sum']\n",
    "cnt_report.sample(2)"
   ]
  },
  {
   "attachments": {},
   "cell_type": "markdown",
   "metadata": {},
   "source": [
    "### SUM reports per time"
   ]
  },
  {
   "cell_type": "code",
   "execution_count": 112,
   "metadata": {},
   "outputs": [
    {
     "data": {
      "image/png": "[encoded data removed]",
      "text/plain": [
       "<Figure size 640x480 with 1 Axes>"
      ]
     },
     "metadata": {},
     "output_type": "display_data"
    },
    {
     "data": {
      "text/plain": [
       "<ggplot: (126628325003)>"
      ]
     },
     "execution_count": 112,
     "metadata": {},
     "output_type": "execute_result"
    }
   ],
   "source": [
    "(\n",
    "  ggplot(cnt_report) +\n",
    "  aes(x=\"hour\",y='sum') +\n",
    "  geom_col()\n",
    ")\n",
    "\n",
    "# peak hour 13 - 18\n",
    "# busy hour 6 - 23"
   ]
  },
  {
   "cell_type": "code",
   "execution_count": 118,
   "metadata": {},
   "outputs": [],
   "source": [
    "# [hour for hour in df1.hour if hour >=13 and hour <= 18]\n",
    "df1['peak_hour'] = np.where((df1['hour'] >= 13) & (df1['hour'] <= 18), 1, 0)\n",
    "df1['busy_hour'] = np.where((df1['hour'] >= 6) & (df1['hour'] <= 23), 1, 0)"
   ]
  },
  {
   "cell_type": "code",
   "execution_count": 120,
   "metadata": {},
   "outputs": [
    {
     "data": {
      "text/html": [
       "<div>\n",
       "<style scoped>\n",
       "    .dataframe tbody tr th:only-of-type {\n",
       "        vertical-align: middle;\n",
       "    }\n",
       "\n",
       "    .dataframe tbody tr th {\n",
       "        vertical-align: top;\n",
       "    }\n",
       "\n",
       "    .dataframe thead th {\n",
       "        text-align: right;\n",
       "    }\n",
       "</style>\n",
       "<table border=\"1\" class=\"dataframe\">\n",
       "  <thead>\n",
       "    <tr style=\"text-align: right;\">\n",
       "      <th></th>\n",
       "      <th>Unnamed: 0</th>\n",
       "      <th>time</th>\n",
       "      <th>kemendagri_kabupaten_kode</th>\n",
       "      <th>kemendagri_kabupaten_nama</th>\n",
       "      <th>street</th>\n",
       "      <th>level</th>\n",
       "      <th>median_length</th>\n",
       "      <th>median_delay</th>\n",
       "      <th>median_speed_kmh</th>\n",
       "      <th>total_records</th>\n",
       "      <th>id</th>\n",
       "      <th>date</th>\n",
       "      <th>median_level</th>\n",
       "      <th>geometry</th>\n",
       "      <th>thm</th>\n",
       "      <th>is_weekend</th>\n",
       "      <th>is_holiday</th>\n",
       "      <th>hour</th>\n",
       "      <th>peak_hour</th>\n",
       "      <th>busy_hour</th>\n",
       "    </tr>\n",
       "  </thead>\n",
       "  <tbody>\n",
       "    <tr>\n",
       "      <th>97527</th>\n",
       "      <td>79660</td>\n",
       "      <td>2022-07-25 16:00:00</td>\n",
       "      <td>32.73</td>\n",
       "      <td>KOTA BANDUNG</td>\n",
       "      <td>Jenderal Ibrahim Adjie</td>\n",
       "      <td>4</td>\n",
       "      <td>469.0</td>\n",
       "      <td>265.0</td>\n",
       "      <td>5.905</td>\n",
       "      <td>18</td>\n",
       "      <td>34710535</td>\n",
       "      <td>2022-07-25</td>\n",
       "      <td>4.0</td>\n",
       "      <td>MULTILINESTRING ((107.642349 -6.939236, 107.64...</td>\n",
       "      <td>16:0</td>\n",
       "      <td>0</td>\n",
       "      <td>0</td>\n",
       "      <td>16</td>\n",
       "      <td>1</td>\n",
       "      <td>1</td>\n",
       "    </tr>\n",
       "  </tbody>\n",
       "</table>\n",
       "</div>"
      ],
      "text/plain": [
       "       Unnamed: 0                time  kemendagri_kabupaten_kode  \\\n",
       "97527       79660 2022-07-25 16:00:00                      32.73   \n",
       "\n",
       "      kemendagri_kabupaten_nama                  street  level  median_length  \\\n",
       "97527              KOTA BANDUNG  Jenderal Ibrahim Adjie      4          469.0   \n",
       "\n",
       "       median_delay  median_speed_kmh  total_records        id       date  \\\n",
       "97527         265.0             5.905             18  34710535 2022-07-25   \n",
       "\n",
       "       median_level                                           geometry   thm  \\\n",
       "97527           4.0  MULTILINESTRING ((107.642349 -6.939236, 107.64...  16:0   \n",
       "\n",
       "       is_weekend  is_holiday  hour  peak_hour  busy_hour  \n",
       "97527           0           0    16          1          1  "
      ]
     },
     "execution_count": 120,
     "metadata": {},
     "output_type": "execute_result"
    }
   ],
   "source": [
    "df1.sample(1)"
   ]
  },
  {
   "attachments": {},
   "cell_type": "markdown",
   "metadata": {},
   "source": [
    "#### Holiday Total Records Metrics\n",
    "mean, q50, q75, q25"
   ]
  },
  {
   "cell_type": "code",
   "execution_count": 152,
   "metadata": {},
   "outputs": [],
   "source": [
    "h_g_f1 = df1.groupby('is_holiday')\n",
    "h_g_f1_sum = h_g_f1.agg({\n",
    "  'total_records': np.sum\n",
    "}).reset_index()"
   ]
  },
  {
   "cell_type": "code",
   "execution_count": 174,
   "metadata": {},
   "outputs": [
    {
     "data": {
      "text/html": [
       "<div>\n",
       "<style scoped>\n",
       "    .dataframe tbody tr th:only-of-type {\n",
       "        vertical-align: middle;\n",
       "    }\n",
       "\n",
       "    .dataframe tbody tr th {\n",
       "        vertical-align: top;\n",
       "    }\n",
       "\n",
       "    .dataframe thead th {\n",
       "        text-align: right;\n",
       "    }\n",
       "</style>\n",
       "<table border=\"1\" class=\"dataframe\">\n",
       "  <thead>\n",
       "    <tr style=\"text-align: right;\">\n",
       "      <th></th>\n",
       "      <th>is_holiday</th>\n",
       "      <th>total_records</th>\n",
       "    </tr>\n",
       "  </thead>\n",
       "  <tbody>\n",
       "    <tr>\n",
       "      <th>0</th>\n",
       "      <td>0</td>\n",
       "      <td>25.0</td>\n",
       "    </tr>\n",
       "    <tr>\n",
       "      <th>1</th>\n",
       "      <td>1</td>\n",
       "      <td>25.0</td>\n",
       "    </tr>\n",
       "  </tbody>\n",
       "</table>\n",
       "</div>"
      ],
      "text/plain": [
       "   is_holiday  total_records\n",
       "0           0           25.0\n",
       "1           1           25.0"
      ]
     },
     "execution_count": 174,
     "metadata": {},
     "output_type": "execute_result"
    }
   ],
   "source": [
    "h_g_f1_q75 = h_g_f1.agg({\n",
    "  'total_records': q75\n",
    "}).reset_index()\n",
    "h_g_f1_q75"
   ]
  },
  {
   "cell_type": "code",
   "execution_count": 178,
   "metadata": {},
   "outputs": [
    {
     "data": {
      "text/html": [
       "<div>\n",
       "<style scoped>\n",
       "    .dataframe tbody tr th:only-of-type {\n",
       "        vertical-align: middle;\n",
       "    }\n",
       "\n",
       "    .dataframe tbody tr th {\n",
       "        vertical-align: top;\n",
       "    }\n",
       "\n",
       "    .dataframe thead th {\n",
       "        text-align: right;\n",
       "    }\n",
       "</style>\n",
       "<table border=\"1\" class=\"dataframe\">\n",
       "  <thead>\n",
       "    <tr style=\"text-align: right;\">\n",
       "      <th></th>\n",
       "      <th>is_holiday</th>\n",
       "      <th>total_records</th>\n",
       "    </tr>\n",
       "  </thead>\n",
       "  <tbody>\n",
       "    <tr>\n",
       "      <th>0</th>\n",
       "      <td>0</td>\n",
       "      <td>11.0</td>\n",
       "    </tr>\n",
       "    <tr>\n",
       "      <th>1</th>\n",
       "      <td>1</td>\n",
       "      <td>10.0</td>\n",
       "    </tr>\n",
       "  </tbody>\n",
       "</table>\n",
       "</div>"
      ],
      "text/plain": [
       "   is_holiday  total_records\n",
       "0           0           11.0\n",
       "1           1           10.0"
      ]
     },
     "execution_count": 178,
     "metadata": {},
     "output_type": "execute_result"
    }
   ],
   "source": [
    "h_g_f1_q50 = h_g_f1.agg({\n",
    "  'total_records': q50\n",
    "}).reset_index()\n",
    "h_g_f1_q50"
   ]
  },
  {
   "cell_type": "code",
   "execution_count": 150,
   "metadata": {},
   "outputs": [],
   "source": [
    "h_g_f1_q25 = h_g_f1.agg({\n",
    "  'total_records': q25\n",
    "}).reset_index()"
   ]
  },
  {
   "cell_type": "code",
   "execution_count": 149,
   "metadata": {},
   "outputs": [],
   "source": [
    "h_g_f1_mean = h_g_f1.agg({\n",
    "  'total_records': np.mean\n",
    "}).reset_index()"
   ]
  },
  {
   "cell_type": "code",
   "execution_count": 167,
   "metadata": {},
   "outputs": [],
   "source": [
    "df1['total_records_holiday_sum'] = np.where(df1['is_holiday'], h_g_f1_sum.iloc[0,1], h_g_f1_sum.iloc[1,1])"
   ]
  },
  {
   "cell_type": "code",
   "execution_count": 170,
   "metadata": {},
   "outputs": [
    {
     "data": {
      "text/html": [
       "<div>\n",
       "<style scoped>\n",
       "    .dataframe tbody tr th:only-of-type {\n",
       "        vertical-align: middle;\n",
       "    }\n",
       "\n",
       "    .dataframe tbody tr th {\n",
       "        vertical-align: top;\n",
       "    }\n",
       "\n",
       "    .dataframe thead th {\n",
       "        text-align: right;\n",
       "    }\n",
       "</style>\n",
       "<table border=\"1\" class=\"dataframe\">\n",
       "  <thead>\n",
       "    <tr style=\"text-align: right;\">\n",
       "      <th></th>\n",
       "      <th>Unnamed: 0</th>\n",
       "      <th>time</th>\n",
       "      <th>kemendagri_kabupaten_kode</th>\n",
       "      <th>kemendagri_kabupaten_nama</th>\n",
       "      <th>street</th>\n",
       "      <th>level</th>\n",
       "      <th>median_length</th>\n",
       "      <th>median_delay</th>\n",
       "      <th>median_speed_kmh</th>\n",
       "      <th>total_records</th>\n",
       "      <th>...</th>\n",
       "      <th>date</th>\n",
       "      <th>median_level</th>\n",
       "      <th>geometry</th>\n",
       "      <th>thm</th>\n",
       "      <th>is_weekend</th>\n",
       "      <th>is_holiday</th>\n",
       "      <th>hour</th>\n",
       "      <th>peak_hour</th>\n",
       "      <th>busy_hour</th>\n",
       "      <th>total_records_holiday_sum</th>\n",
       "    </tr>\n",
       "  </thead>\n",
       "  <tbody>\n",
       "    <tr>\n",
       "      <th>34235</th>\n",
       "      <td>16368</td>\n",
       "      <td>2022-07-14 00:00:00</td>\n",
       "      <td>32.73</td>\n",
       "      <td>KOTA BANDUNG</td>\n",
       "      <td>Cingised</td>\n",
       "      <td>3</td>\n",
       "      <td>302.0</td>\n",
       "      <td>118.5</td>\n",
       "      <td>6.47</td>\n",
       "      <td>8</td>\n",
       "      <td>...</td>\n",
       "      <td>2022-07-14</td>\n",
       "      <td>3.0</td>\n",
       "      <td>MULTILINESTRING ((107.67293 -6.928174, 107.672...</td>\n",
       "      <td>0:0</td>\n",
       "      <td>0</td>\n",
       "      <td>0</td>\n",
       "      <td>0</td>\n",
       "      <td>0</td>\n",
       "      <td>0</td>\n",
       "      <td>2012056</td>\n",
       "    </tr>\n",
       "    <tr>\n",
       "      <th>277119</th>\n",
       "      <td>127241</td>\n",
       "      <td>2022-08-31 11:00:00</td>\n",
       "      <td>32.73</td>\n",
       "      <td>KOTA BANDUNG</td>\n",
       "      <td>Cihapit</td>\n",
       "      <td>4</td>\n",
       "      <td>333.0</td>\n",
       "      <td>214.0</td>\n",
       "      <td>4.39</td>\n",
       "      <td>1</td>\n",
       "      <td>...</td>\n",
       "      <td>2022-08-31</td>\n",
       "      <td>4.0</td>\n",
       "      <td>LINESTRING (107.621463 -6.908303, 107.62147 -6...</td>\n",
       "      <td>11:0</td>\n",
       "      <td>0</td>\n",
       "      <td>0</td>\n",
       "      <td>11</td>\n",
       "      <td>0</td>\n",
       "      <td>1</td>\n",
       "      <td>2012056</td>\n",
       "    </tr>\n",
       "  </tbody>\n",
       "</table>\n",
       "<p>2 rows × 21 columns</p>\n",
       "</div>"
      ],
      "text/plain": [
       "        Unnamed: 0                time  kemendagri_kabupaten_kode  \\\n",
       "34235        16368 2022-07-14 00:00:00                      32.73   \n",
       "277119      127241 2022-08-31 11:00:00                      32.73   \n",
       "\n",
       "       kemendagri_kabupaten_nama    street  level  median_length  \\\n",
       "34235               KOTA BANDUNG  Cingised      3          302.0   \n",
       "277119              KOTA BANDUNG   Cihapit      4          333.0   \n",
       "\n",
       "        median_delay  median_speed_kmh  total_records  ...       date  \\\n",
       "34235          118.5              6.47              8  ... 2022-07-14   \n",
       "277119         214.0              4.39              1  ... 2022-08-31   \n",
       "\n",
       "       median_level                                           geometry   thm  \\\n",
       "34235           3.0  MULTILINESTRING ((107.67293 -6.928174, 107.672...   0:0   \n",
       "277119          4.0  LINESTRING (107.621463 -6.908303, 107.62147 -6...  11:0   \n",
       "\n",
       "       is_weekend  is_holiday  hour  peak_hour  busy_hour  \\\n",
       "34235           0           0     0          0          0   \n",
       "277119          0           0    11          0          1   \n",
       "\n",
       "        total_records_holiday_sum  \n",
       "34235                     2012056  \n",
       "277119                    2012056  \n",
       "\n",
       "[2 rows x 21 columns]"
      ]
     },
     "execution_count": 170,
     "metadata": {},
     "output_type": "execute_result"
    }
   ],
   "source": [
    "df1.sample(2)"
   ]
  },
  {
   "cell_type": "code",
   "execution_count": 179,
   "metadata": {},
   "outputs": [],
   "source": [
    "df1['total_records_holiday_q25'] = np.where(df1['is_holiday'], h_g_f1_q25.iloc[0,1], h_g_f1_q25.iloc[1,1])\n",
    "df1['total_records_holiday_q75'] = np.where(df1['is_holiday'], h_g_f1_q75.iloc[0,1], h_g_f1_q75.iloc[1,1])\n",
    "df1['total_records_holiday_q50'] = np.where(df1['is_holiday'], h_g_f1_q50.iloc[0,1], h_g_f1_q50.iloc[1,1])\n",
    "df1['total_records_holiday_mean'] = np.where(df1['is_holiday'], h_g_f1_mean.iloc[0,1], h_g_f1_mean.iloc[1,1])"
   ]
  },
  {
   "cell_type": "code",
   "execution_count": 175,
   "metadata": {},
   "outputs": [
    {
     "data": {
      "text/html": [
       "<div>\n",
       "<style scoped>\n",
       "    .dataframe tbody tr th:only-of-type {\n",
       "        vertical-align: middle;\n",
       "    }\n",
       "\n",
       "    .dataframe tbody tr th {\n",
       "        vertical-align: top;\n",
       "    }\n",
       "\n",
       "    .dataframe thead th {\n",
       "        text-align: right;\n",
       "    }\n",
       "</style>\n",
       "<table border=\"1\" class=\"dataframe\">\n",
       "  <thead>\n",
       "    <tr style=\"text-align: right;\">\n",
       "      <th></th>\n",
       "      <th>Unnamed: 0</th>\n",
       "      <th>time</th>\n",
       "      <th>kemendagri_kabupaten_kode</th>\n",
       "      <th>kemendagri_kabupaten_nama</th>\n",
       "      <th>street</th>\n",
       "      <th>level</th>\n",
       "      <th>median_length</th>\n",
       "      <th>median_delay</th>\n",
       "      <th>median_speed_kmh</th>\n",
       "      <th>total_records</th>\n",
       "      <th>...</th>\n",
       "      <th>thm</th>\n",
       "      <th>is_weekend</th>\n",
       "      <th>is_holiday</th>\n",
       "      <th>hour</th>\n",
       "      <th>peak_hour</th>\n",
       "      <th>busy_hour</th>\n",
       "      <th>total_records_holiday_sum</th>\n",
       "      <th>total_records_holiday_q25</th>\n",
       "      <th>total_records_holiday_q75</th>\n",
       "      <th>total_records_holiday_mean</th>\n",
       "    </tr>\n",
       "  </thead>\n",
       "  <tbody>\n",
       "    <tr>\n",
       "      <th>112784</th>\n",
       "      <td>94917</td>\n",
       "      <td>2022-07-28 18:00:00</td>\n",
       "      <td>32.73</td>\n",
       "      <td>KOTA BANDUNG</td>\n",
       "      <td>Holis</td>\n",
       "      <td>4</td>\n",
       "      <td>201.0</td>\n",
       "      <td>130.0</td>\n",
       "      <td>4.61</td>\n",
       "      <td>1</td>\n",
       "      <td>...</td>\n",
       "      <td>18:0</td>\n",
       "      <td>0</td>\n",
       "      <td>0</td>\n",
       "      <td>18</td>\n",
       "      <td>1</td>\n",
       "      <td>1</td>\n",
       "      <td>2012056</td>\n",
       "      <td>4.0</td>\n",
       "      <td>25.0</td>\n",
       "      <td>21.431526</td>\n",
       "    </tr>\n",
       "    <tr>\n",
       "      <th>189527</th>\n",
       "      <td>39649</td>\n",
       "      <td>2022-08-13 15:00:00</td>\n",
       "      <td>32.73</td>\n",
       "      <td>KOTA BANDUNG</td>\n",
       "      <td>N11 Soekarno-Hatta</td>\n",
       "      <td>2</td>\n",
       "      <td>1428.0</td>\n",
       "      <td>100.0</td>\n",
       "      <td>22.70</td>\n",
       "      <td>128</td>\n",
       "      <td>...</td>\n",
       "      <td>15:0</td>\n",
       "      <td>1</td>\n",
       "      <td>1</td>\n",
       "      <td>15</td>\n",
       "      <td>1</td>\n",
       "      <td>1</td>\n",
       "      <td>4433653</td>\n",
       "      <td>4.0</td>\n",
       "      <td>25.0</td>\n",
       "      <td>21.304168</td>\n",
       "    </tr>\n",
       "  </tbody>\n",
       "</table>\n",
       "<p>2 rows × 24 columns</p>\n",
       "</div>"
      ],
      "text/plain": [
       "        Unnamed: 0                time  kemendagri_kabupaten_kode  \\\n",
       "112784       94917 2022-07-28 18:00:00                      32.73   \n",
       "189527       39649 2022-08-13 15:00:00                      32.73   \n",
       "\n",
       "       kemendagri_kabupaten_nama              street  level  median_length  \\\n",
       "112784              KOTA BANDUNG               Holis      4          201.0   \n",
       "189527              KOTA BANDUNG  N11 Soekarno-Hatta      2         1428.0   \n",
       "\n",
       "        median_delay  median_speed_kmh  total_records  ...   thm is_weekend  \\\n",
       "112784         130.0              4.61              1  ...  18:0          0   \n",
       "189527         100.0             22.70            128  ...  15:0          1   \n",
       "\n",
       "        is_holiday hour peak_hour  busy_hour  total_records_holiday_sum  \\\n",
       "112784           0   18         1          1                    2012056   \n",
       "189527           1   15         1          1                    4433653   \n",
       "\n",
       "        total_records_holiday_q25  total_records_holiday_q75  \\\n",
       "112784                        4.0                       25.0   \n",
       "189527                        4.0                       25.0   \n",
       "\n",
       "        total_records_holiday_mean  \n",
       "112784                   21.431526  \n",
       "189527                   21.304168  \n",
       "\n",
       "[2 rows x 24 columns]"
      ]
     },
     "execution_count": 175,
     "metadata": {},
     "output_type": "execute_result"
    }
   ],
   "source": [
    "df1.sample(2)"
   ]
  },
  {
   "attachments": {},
   "cell_type": "markdown",
   "metadata": {},
   "source": [
    "#### Busy Hour Total Records Metrics\n",
    "sum, mean, q50, q75, q25"
   ]
  },
  {
   "cell_type": "code",
   "execution_count": 182,
   "metadata": {},
   "outputs": [
    {
     "data": {
      "text/html": [
       "<div>\n",
       "<style scoped>\n",
       "    .dataframe tbody tr th:only-of-type {\n",
       "        vertical-align: middle;\n",
       "    }\n",
       "\n",
       "    .dataframe tbody tr th {\n",
       "        vertical-align: top;\n",
       "    }\n",
       "\n",
       "    .dataframe thead th {\n",
       "        text-align: right;\n",
       "    }\n",
       "</style>\n",
       "<table border=\"1\" class=\"dataframe\">\n",
       "  <thead>\n",
       "    <tr style=\"text-align: right;\">\n",
       "      <th></th>\n",
       "      <th>busy_hour</th>\n",
       "      <th>total_records</th>\n",
       "    </tr>\n",
       "  </thead>\n",
       "  <tbody>\n",
       "    <tr>\n",
       "      <th>0</th>\n",
       "      <td>0</td>\n",
       "      <td>304513</td>\n",
       "    </tr>\n",
       "    <tr>\n",
       "      <th>1</th>\n",
       "      <td>1</td>\n",
       "      <td>6141196</td>\n",
       "    </tr>\n",
       "  </tbody>\n",
       "</table>\n",
       "</div>"
      ],
      "text/plain": [
       "   busy_hour  total_records\n",
       "0          0         304513\n",
       "1          1        6141196"
      ]
     },
     "execution_count": 182,
     "metadata": {},
     "output_type": "execute_result"
    }
   ],
   "source": [
    "b_g_f1 = df1.groupby('busy_hour')\n",
    "b_g_f1_sum = b_g_f1.agg({\n",
    "  'total_records': np.sum\n",
    "}).reset_index()\n",
    "b_g_f1_sum"
   ]
  },
  {
   "cell_type": "code",
   "execution_count": 189,
   "metadata": {},
   "outputs": [],
   "source": [
    "b_g_f1_mean = b_g_f1.agg({\n",
    "  'total_records': np.mean\n",
    "}).reset_index()"
   ]
  },
  {
   "cell_type": "code",
   "execution_count": 190,
   "metadata": {},
   "outputs": [],
   "source": [
    "b_g_f1_q25 = b_g_f1.agg({\n",
    "  'total_records': q25\n",
    "}).reset_index()"
   ]
  },
  {
   "cell_type": "code",
   "execution_count": 191,
   "metadata": {},
   "outputs": [],
   "source": [
    "b_g_f1_q50 = b_g_f1.agg({\n",
    "  'total_records': q50\n",
    "}).reset_index()"
   ]
  },
  {
   "cell_type": "code",
   "execution_count": 192,
   "metadata": {},
   "outputs": [],
   "source": [
    "b_g_f1_q75 = b_g_f1.agg({\n",
    "  'total_records': q75\n",
    "}).reset_index()"
   ]
  },
  {
   "cell_type": "code",
   "execution_count": 194,
   "metadata": {},
   "outputs": [],
   "source": [
    "df1['total_records_busy_hour_mean'] = np.where(df1['busy_hour'], b_g_f1_mean.iloc[0,1], b_g_f1_mean.iloc[1,1])\n",
    "df1['total_records_busy_hour_sum'] = np.where(df1['busy_hour'], b_g_f1_sum.iloc[0,1], b_g_f1_mean.iloc[1,1])\n",
    "df1['total_records_busy_hour_q25'] = np.where(df1['busy_hour'], b_g_f1_q25.iloc[0,1], b_g_f1_mean.iloc[1,1])\n",
    "df1['total_records_busy_hour_q50'] = np.where(df1['busy_hour'], b_g_f1_q50.iloc[0,1], b_g_f1_mean.iloc[1,1])\n",
    "df1['total_records_busy_hour_q75'] = np.where(df1['busy_hour'], b_g_f1_q75.iloc[0,1], b_g_f1_mean.iloc[1,1])"
   ]
  },
  {
   "cell_type": "code",
   "execution_count": 197,
   "metadata": {},
   "outputs": [],
   "source": [
    "df1.to_csv(PATH_INTERIM+\"iterim1.csv\")"
   ]
  },
  {
   "cell_type": "code",
   "execution_count": null,
   "metadata": {},
   "outputs": [],
   "source": []
  }
 ],
 "metadata": {
  "kernelspec": {
   "display_name": "Python 3",
   "language": "python",
   "name": "python3"
  },
  "language_info": {
   "codemirror_mode": {
    "name": "ipython",
    "version": 3
   },
   "file_extension": ".py",
   "mimetype": "text/x-python",
   "name": "python",
   "nbconvert_exporter": "python",
   "pygments_lexer": "ipython3",
   "version": "3.8.2"
  },
  "orig_nbformat": 4,
  "vscode": {
   "interpreter": {
    "hash": "9650cb4e16cdd4a8e8e2d128bf38d875813998db22a3c986335f89e0cb4d7bb2"
   }
  }
 },
 "nbformat": 4,
 "nbformat_minor": 2
}
