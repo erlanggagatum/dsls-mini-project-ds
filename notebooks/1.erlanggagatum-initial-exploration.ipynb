{
 "cells": [
  {
   "attachments": {},
   "cell_type": "markdown",
   "metadata": {},
   "source": [
    "# Initial Exploration"
   ]
  },
  {
   "cell_type": "code",
   "execution_count": 48,
   "metadata": {},
   "outputs": [],
   "source": [
    "import pandas as pd\n",
    "import numpy as np\n",
    "from plotnine import *\n",
    "import shapely.geometry\n",
    "import shapely.wkt\n",
    "from shapely import wkt\n",
    "import geopandas as gpd\n",
    "import folium\n",
    "import matplotlib\n",
    "import mapclassify"
   ]
  },
  {
   "cell_type": "code",
   "execution_count": 49,
   "metadata": {},
   "outputs": [],
   "source": [
    "PATH_RAW = '../data/raw/'\n",
    "PATH_INTERIM = '../data/interim/'"
   ]
  },
  {
   "attachments": {},
   "cell_type": "markdown",
   "metadata": {},
   "source": [
    "## Look at raw data"
   ]
  },
  {
   "attachments": {},
   "cell_type": "markdown",
   "metadata": {},
   "source": [
    "### Aggregate median jams kota bandung"
   ]
  },
  {
   "cell_type": "code",
   "execution_count": 50,
   "metadata": {},
   "outputs": [],
   "source": [
    "df1 = pd.read_csv(PATH_RAW+\"aggregate_median_jams_Kota Bandung_fixed.csv\")\n",
    "# df2 = pd.read_csv(PATH_RAW+\"aggregate_median_jams_Kota Bandung_fixed.csv\")"
   ]
  },
  {
   "cell_type": "code",
   "execution_count": 51,
   "metadata": {},
   "outputs": [
    {
     "data": {
      "text/html": [
       "<div>\n",
       "<style scoped>\n",
       "    .dataframe tbody tr th:only-of-type {\n",
       "        vertical-align: middle;\n",
       "    }\n",
       "\n",
       "    .dataframe tbody tr th {\n",
       "        vertical-align: top;\n",
       "    }\n",
       "\n",
       "    .dataframe thead th {\n",
       "        text-align: right;\n",
       "    }\n",
       "</style>\n",
       "<table border=\"1\" class=\"dataframe\">\n",
       "  <thead>\n",
       "    <tr style=\"text-align: right;\">\n",
       "      <th></th>\n",
       "      <th>Unnamed: 0</th>\n",
       "      <th>time</th>\n",
       "      <th>kemendagri_kabupaten_kode</th>\n",
       "      <th>kemendagri_kabupaten_nama</th>\n",
       "      <th>street</th>\n",
       "      <th>level</th>\n",
       "      <th>median_length</th>\n",
       "      <th>median_delay</th>\n",
       "      <th>median_speed_kmh</th>\n",
       "      <th>total_records</th>\n",
       "      <th>id</th>\n",
       "      <th>date</th>\n",
       "      <th>median_level</th>\n",
       "      <th>geometry</th>\n",
       "    </tr>\n",
       "  </thead>\n",
       "  <tbody>\n",
       "    <tr>\n",
       "      <th>93378</th>\n",
       "      <td>75511</td>\n",
       "      <td>2022-07-24 19:00:00.000</td>\n",
       "      <td>32.73</td>\n",
       "      <td>KOTA BANDUNG</td>\n",
       "      <td>Dangdeur Indah 3</td>\n",
       "      <td>4</td>\n",
       "      <td>198.0</td>\n",
       "      <td>1144.0</td>\n",
       "      <td>0.530</td>\n",
       "      <td>2</td>\n",
       "      <td>34651729</td>\n",
       "      <td>2022-07-24</td>\n",
       "      <td>4.0</td>\n",
       "      <td>LINESTRING (107.582346 -6.883335, 107.582368 -...</td>\n",
       "    </tr>\n",
       "    <tr>\n",
       "      <th>9429</th>\n",
       "      <td>4286</td>\n",
       "      <td>2022-07-07 18:00:00.000</td>\n",
       "      <td>32.73</td>\n",
       "      <td>KOTA BANDUNG</td>\n",
       "      <td>Veteran</td>\n",
       "      <td>3</td>\n",
       "      <td>690.0</td>\n",
       "      <td>78.0</td>\n",
       "      <td>16.000</td>\n",
       "      <td>9</td>\n",
       "      <td>33540894</td>\n",
       "      <td>2022-07-07</td>\n",
       "      <td>3.0</td>\n",
       "      <td>MULTILINESTRING ((107.613891 -6.918569, 107.61...</td>\n",
       "    </tr>\n",
       "    <tr>\n",
       "      <th>79707</th>\n",
       "      <td>61840</td>\n",
       "      <td>2022-07-22 14:00:00.000</td>\n",
       "      <td>32.73</td>\n",
       "      <td>KOTA BANDUNG</td>\n",
       "      <td>Prof Dr Surya Sumantri</td>\n",
       "      <td>1</td>\n",
       "      <td>1064.0</td>\n",
       "      <td>72.0</td>\n",
       "      <td>22.270</td>\n",
       "      <td>3</td>\n",
       "      <td>34498736</td>\n",
       "      <td>2022-07-22</td>\n",
       "      <td>1.0</td>\n",
       "      <td>MULTILINESTRING ((107.581136 -6.891975, 107.58...</td>\n",
       "    </tr>\n",
       "    <tr>\n",
       "      <th>116983</th>\n",
       "      <td>99116</td>\n",
       "      <td>2022-07-29 15:00:00.000</td>\n",
       "      <td>32.73</td>\n",
       "      <td>KOTA BANDUNG</td>\n",
       "      <td>Astana Anyar</td>\n",
       "      <td>3</td>\n",
       "      <td>771.0</td>\n",
       "      <td>277.5</td>\n",
       "      <td>7.635</td>\n",
       "      <td>22</td>\n",
       "      <td>34948728</td>\n",
       "      <td>2022-07-29</td>\n",
       "      <td>3.0</td>\n",
       "      <td>MULTILINESTRING ((107.598343 -6.920117, 107.59...</td>\n",
       "    </tr>\n",
       "    <tr>\n",
       "      <th>163294</th>\n",
       "      <td>13416</td>\n",
       "      <td>2022-08-08 14:00:00.000</td>\n",
       "      <td>32.73</td>\n",
       "      <td>KOTA BANDUNG</td>\n",
       "      <td>Soekarno-Hatta (Jalur Lambat)</td>\n",
       "      <td>3</td>\n",
       "      <td>1374.0</td>\n",
       "      <td>164.0</td>\n",
       "      <td>20.765</td>\n",
       "      <td>48</td>\n",
       "      <td>35608153</td>\n",
       "      <td>2022-08-08</td>\n",
       "      <td>3.0</td>\n",
       "      <td>MULTILINESTRING ((107.646898 -6.943951, 107.64...</td>\n",
       "    </tr>\n",
       "  </tbody>\n",
       "</table>\n",
       "</div>"
      ],
      "text/plain": [
       "        Unnamed: 0                     time  kemendagri_kabupaten_kode  \\\n",
       "93378        75511  2022-07-24 19:00:00.000                      32.73   \n",
       "9429          4286  2022-07-07 18:00:00.000                      32.73   \n",
       "79707        61840  2022-07-22 14:00:00.000                      32.73   \n",
       "116983       99116  2022-07-29 15:00:00.000                      32.73   \n",
       "163294       13416  2022-08-08 14:00:00.000                      32.73   \n",
       "\n",
       "       kemendagri_kabupaten_nama                         street  level  \\\n",
       "93378               KOTA BANDUNG               Dangdeur Indah 3      4   \n",
       "9429                KOTA BANDUNG                        Veteran      3   \n",
       "79707               KOTA BANDUNG         Prof Dr Surya Sumantri      1   \n",
       "116983              KOTA BANDUNG                   Astana Anyar      3   \n",
       "163294              KOTA BANDUNG  Soekarno-Hatta (Jalur Lambat)      3   \n",
       "\n",
       "        median_length  median_delay  median_speed_kmh  total_records  \\\n",
       "93378           198.0        1144.0             0.530              2   \n",
       "9429            690.0          78.0            16.000              9   \n",
       "79707          1064.0          72.0            22.270              3   \n",
       "116983          771.0         277.5             7.635             22   \n",
       "163294         1374.0         164.0            20.765             48   \n",
       "\n",
       "              id        date  median_level  \\\n",
       "93378   34651729  2022-07-24           4.0   \n",
       "9429    33540894  2022-07-07           3.0   \n",
       "79707   34498736  2022-07-22           1.0   \n",
       "116983  34948728  2022-07-29           3.0   \n",
       "163294  35608153  2022-08-08           3.0   \n",
       "\n",
       "                                                 geometry  \n",
       "93378   LINESTRING (107.582346 -6.883335, 107.582368 -...  \n",
       "9429    MULTILINESTRING ((107.613891 -6.918569, 107.61...  \n",
       "79707   MULTILINESTRING ((107.581136 -6.891975, 107.58...  \n",
       "116983  MULTILINESTRING ((107.598343 -6.920117, 107.59...  \n",
       "163294  MULTILINESTRING ((107.646898 -6.943951, 107.64...  "
      ]
     },
     "execution_count": 51,
     "metadata": {},
     "output_type": "execute_result"
    }
   ],
   "source": [
    "df1.sample(5)"
   ]
  },
  {
   "cell_type": "code",
   "execution_count": 52,
   "metadata": {},
   "outputs": [
    {
     "name": "stdout",
     "output_type": "stream",
     "text": [
      "<class 'pandas.core.frame.DataFrame'>\n",
      "RangeIndex: 301995 entries, 0 to 301994\n",
      "Data columns (total 14 columns):\n",
      " #   Column                     Non-Null Count   Dtype  \n",
      "---  ------                     --------------   -----  \n",
      " 0   Unnamed: 0                 301995 non-null  int64  \n",
      " 1   time                       301995 non-null  object \n",
      " 2   kemendagri_kabupaten_kode  301995 non-null  float64\n",
      " 3   kemendagri_kabupaten_nama  301995 non-null  object \n",
      " 4   street                     299552 non-null  object \n",
      " 5   level                      301995 non-null  int64  \n",
      " 6   median_length              301995 non-null  float64\n",
      " 7   median_delay               301995 non-null  float64\n",
      " 8   median_speed_kmh           301995 non-null  float64\n",
      " 9   total_records              301995 non-null  int64  \n",
      " 10  id                         301995 non-null  int64  \n",
      " 11  date                       301995 non-null  object \n",
      " 12  median_level               301995 non-null  float64\n",
      " 13  geometry                   301995 non-null  object \n",
      "dtypes: float64(5), int64(4), object(5)\n",
      "memory usage: 32.3+ MB\n"
     ]
    }
   ],
   "source": [
    "df1.info()"
   ]
  },
  {
   "cell_type": "code",
   "execution_count": 53,
   "metadata": {},
   "outputs": [
    {
     "data": {
      "image/png": "[encoded data removed]",
      "text/plain": [
       "<Figure size 640x480 with 1 Axes>"
      ]
     },
     "metadata": {},
     "output_type": "display_data"
    },
    {
     "data": {
      "text/plain": [
       "<ggplot: (185845441262)>"
      ]
     },
     "execution_count": 53,
     "metadata": {},
     "output_type": "execute_result"
    }
   ],
   "source": [
    "(\n",
    "  ggplot(df1) +\n",
    "  aes(x=\"level\") +\n",
    "  geom_bar()\n",
    ")"
   ]
  },
  {
   "cell_type": "code",
   "execution_count": 54,
   "metadata": {},
   "outputs": [
    {
     "data": {
      "text/html": [
       "<div>\n",
       "<style scoped>\n",
       "    .dataframe tbody tr th:only-of-type {\n",
       "        vertical-align: middle;\n",
       "    }\n",
       "\n",
       "    .dataframe tbody tr th {\n",
       "        vertical-align: top;\n",
       "    }\n",
       "\n",
       "    .dataframe thead th {\n",
       "        text-align: right;\n",
       "    }\n",
       "</style>\n",
       "<table border=\"1\" class=\"dataframe\">\n",
       "  <thead>\n",
       "    <tr style=\"text-align: right;\">\n",
       "      <th></th>\n",
       "      <th>level</th>\n",
       "      <th>Unnamed: 0</th>\n",
       "      <th>time</th>\n",
       "      <th>kemendagri_kabupaten_kode</th>\n",
       "      <th>kemendagri_kabupaten_nama</th>\n",
       "      <th>street</th>\n",
       "      <th>median_length</th>\n",
       "      <th>median_delay</th>\n",
       "      <th>median_speed_kmh</th>\n",
       "      <th>total_records</th>\n",
       "      <th>id</th>\n",
       "      <th>date</th>\n",
       "      <th>median_level</th>\n",
       "      <th>geometry</th>\n",
       "    </tr>\n",
       "  </thead>\n",
       "  <tbody>\n",
       "    <tr>\n",
       "      <th>0</th>\n",
       "      <td>1</td>\n",
       "      <td>40444</td>\n",
       "      <td>40444</td>\n",
       "      <td>40444</td>\n",
       "      <td>40444</td>\n",
       "      <td>40404</td>\n",
       "      <td>40444</td>\n",
       "      <td>40444</td>\n",
       "      <td>40444</td>\n",
       "      <td>40444</td>\n",
       "      <td>40444</td>\n",
       "      <td>40444</td>\n",
       "      <td>40444</td>\n",
       "      <td>40444</td>\n",
       "    </tr>\n",
       "    <tr>\n",
       "      <th>1</th>\n",
       "      <td>2</td>\n",
       "      <td>102904</td>\n",
       "      <td>102904</td>\n",
       "      <td>102904</td>\n",
       "      <td>102904</td>\n",
       "      <td>102635</td>\n",
       "      <td>102904</td>\n",
       "      <td>102904</td>\n",
       "      <td>102904</td>\n",
       "      <td>102904</td>\n",
       "      <td>102904</td>\n",
       "      <td>102904</td>\n",
       "      <td>102904</td>\n",
       "      <td>102904</td>\n",
       "    </tr>\n",
       "    <tr>\n",
       "      <th>2</th>\n",
       "      <td>3</td>\n",
       "      <td>100783</td>\n",
       "      <td>100783</td>\n",
       "      <td>100783</td>\n",
       "      <td>100783</td>\n",
       "      <td>100418</td>\n",
       "      <td>100783</td>\n",
       "      <td>100783</td>\n",
       "      <td>100783</td>\n",
       "      <td>100783</td>\n",
       "      <td>100783</td>\n",
       "      <td>100783</td>\n",
       "      <td>100783</td>\n",
       "      <td>100783</td>\n",
       "    </tr>\n",
       "    <tr>\n",
       "      <th>3</th>\n",
       "      <td>4</td>\n",
       "      <td>49363</td>\n",
       "      <td>49363</td>\n",
       "      <td>49363</td>\n",
       "      <td>49363</td>\n",
       "      <td>49013</td>\n",
       "      <td>49363</td>\n",
       "      <td>49363</td>\n",
       "      <td>49363</td>\n",
       "      <td>49363</td>\n",
       "      <td>49363</td>\n",
       "      <td>49363</td>\n",
       "      <td>49363</td>\n",
       "      <td>49363</td>\n",
       "    </tr>\n",
       "    <tr>\n",
       "      <th>4</th>\n",
       "      <td>5</td>\n",
       "      <td>8501</td>\n",
       "      <td>8501</td>\n",
       "      <td>8501</td>\n",
       "      <td>8501</td>\n",
       "      <td>7082</td>\n",
       "      <td>8501</td>\n",
       "      <td>8501</td>\n",
       "      <td>8501</td>\n",
       "      <td>8501</td>\n",
       "      <td>8501</td>\n",
       "      <td>8501</td>\n",
       "      <td>8501</td>\n",
       "      <td>8501</td>\n",
       "    </tr>\n",
       "  </tbody>\n",
       "</table>\n",
       "</div>"
      ],
      "text/plain": [
       "   level  Unnamed: 0    time  kemendagri_kabupaten_kode  \\\n",
       "0      1       40444   40444                      40444   \n",
       "1      2      102904  102904                     102904   \n",
       "2      3      100783  100783                     100783   \n",
       "3      4       49363   49363                      49363   \n",
       "4      5        8501    8501                       8501   \n",
       "\n",
       "   kemendagri_kabupaten_nama  street  median_length  median_delay  \\\n",
       "0                      40444   40404          40444         40444   \n",
       "1                     102904  102635         102904        102904   \n",
       "2                     100783  100418         100783        100783   \n",
       "3                      49363   49013          49363         49363   \n",
       "4                       8501    7082           8501          8501   \n",
       "\n",
       "   median_speed_kmh  total_records      id    date  median_level  geometry  \n",
       "0             40444          40444   40444   40444         40444     40444  \n",
       "1            102904         102904  102904  102904        102904    102904  \n",
       "2            100783         100783  100783  100783        100783    100783  \n",
       "3             49363          49363   49363   49363         49363     49363  \n",
       "4              8501           8501    8501    8501          8501      8501  "
      ]
     },
     "execution_count": 54,
     "metadata": {},
     "output_type": "execute_result"
    }
   ],
   "source": [
    "df1.groupby('level').count().reset_index()"
   ]
  },
  {
   "cell_type": "code",
   "execution_count": 55,
   "metadata": {},
   "outputs": [
    {
     "data": {
      "text/plain": [
       "<bound method Series.unique of 0         MULTILINESTRING ((107.622869 -6.919558, 107.62...\n",
       "1         MULTILINESTRING ((107.59526 -6.947213, 107.595...\n",
       "2         LINESTRING (107.652971 -6.940132, 107.653181 -...\n",
       "3         LINESTRING (107.593922 -6.866493, 107.5939 -6....\n",
       "4         MULTILINESTRING ((107.690448 -6.961397, 107.69...\n",
       "                                ...                        \n",
       "301990    MULTILINESTRING ((107.596827 -6.888612, 107.59...\n",
       "301991    MULTILINESTRING ((107.596827 -6.888612, 107.59...\n",
       "301992    MULTILINESTRING ((107.596747 -6.886963, 107.59...\n",
       "301993    MULTILINESTRING ((107.588654 -6.945097, 107.58...\n",
       "301994    MULTILINESTRING ((107.59526 -6.947213, 107.595...\n",
       "Name: geometry, Length: 301995, dtype: object>"
      ]
     },
     "execution_count": 55,
     "metadata": {},
     "output_type": "execute_result"
    }
   ],
   "source": [
    "df1.geometry.unique"
   ]
  },
  {
   "cell_type": "code",
   "execution_count": 56,
   "metadata": {},
   "outputs": [],
   "source": [
    "# df1[df1['street'].isna()].sample(3).iloc[0, len(df1.columns)-1]"
   ]
  },
  {
   "cell_type": "code",
   "execution_count": 57,
   "metadata": {},
   "outputs": [],
   "source": [
    "df1['geometry'] = df1['geometry'].apply(wkt.loads)"
   ]
  },
  {
   "cell_type": "code",
   "execution_count": 58,
   "metadata": {},
   "outputs": [],
   "source": [
    "gdf = gpd.GeoDataFrame(df1, crs='epsg:4326')"
   ]
  },
  {
   "cell_type": "code",
   "execution_count": 59,
   "metadata": {},
   "outputs": [
    {
     "data": {
      "text/plain": [
       "<AxesSubplot: >"
      ]
     },
     "execution_count": 59,
     "metadata": {},
     "output_type": "execute_result"
    },
    {
     "data": {
      "image/png": "[encoded data removed]",
      "text/plain": [
       "<Figure size 640x480 with 2 Axes>"
      ]
     },
     "metadata": {},
     "output_type": "display_data"
    }
   ],
   "source": [
    "gdf.sample(1000).plot(column='level',cmap='Reds', legend=True)"
   ]
  },
  {
   "cell_type": "code",
   "execution_count": 60,
   "metadata": {},
   "outputs": [],
   "source": [
    "# gdf.sample(1000).explore(column='level', cmap='Reds', style_kwds={'weight':8, 'opacity':0.8})"
   ]
  },
  {
   "cell_type": "code",
   "execution_count": 61,
   "metadata": {},
   "outputs": [
    {
     "name": "stdout",
     "output_type": "stream",
     "text": [
      "street unique data len: 1162\n",
      "street unique data example: ['Jenderal Ahmad Yani' 'Cibaduyut Raya' 'Cidurian Selatan' ... 'Yuda'\n",
      " 'Leuwi Anyar' 'Kencana Puri 4']\n"
     ]
    }
   ],
   "source": [
    "print('street unique data len:', len(df1.street.unique()))\n",
    "print('street unique data example:', (df1.street.unique()))"
   ]
  },
  {
   "cell_type": "code",
   "execution_count": 62,
   "metadata": {},
   "outputs": [],
   "source": [
    "# df1.time = pd.to_datetime(df1.time)"
   ]
  },
  {
   "cell_type": "code",
   "execution_count": 63,
   "metadata": {},
   "outputs": [
    {
     "data": {
      "text/plain": [
       "0        2022-07-06\n",
       "1        2022-07-06\n",
       "2        2022-07-06\n",
       "3        2022-07-06\n",
       "4        2022-07-06\n",
       "            ...    \n",
       "301990   2022-09-06\n",
       "301991   2022-09-06\n",
       "301992   2022-09-06\n",
       "301993   2022-09-06\n",
       "301994   2022-09-06\n",
       "Name: time, Length: 301995, dtype: datetime64[ns]"
      ]
     },
     "execution_count": 63,
     "metadata": {},
     "output_type": "execute_result"
    }
   ],
   "source": [
    "# df1.time"
   ]
  }
 ],
 "metadata": {
  "kernelspec": {
   "display_name": "Python 3",
   "language": "python",
   "name": "python3"
  },
  "language_info": {
   "codemirror_mode": {
    "name": "ipython",
    "version": 3
   },
   "file_extension": ".py",
   "mimetype": "text/x-python",
   "name": "python",
   "nbconvert_exporter": "python",
   "pygments_lexer": "ipython3",
   "version": "3.8.2"
  },
  "orig_nbformat": 4,
  "vscode": {
   "interpreter": {
    "hash": "9650cb4e16cdd4a8e8e2d128bf38d875813998db22a3c986335f89e0cb4d7bb2"
   }
  }
 },
 "nbformat": 4,
 "nbformat_minor": 2
}
