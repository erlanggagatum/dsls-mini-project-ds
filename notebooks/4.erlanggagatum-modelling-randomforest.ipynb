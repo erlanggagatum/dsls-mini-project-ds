{
 "cells": [
  {
   "attachments": {},
   "cell_type": "markdown",
   "metadata": {},
   "source": [
    "# Modelling 1: Random Forest"
   ]
  },
  {
   "cell_type": "code",
   "execution_count": 93,
   "metadata": {},
   "outputs": [],
   "source": [
    "import pandas as pd\n",
    "import numpy as np\n",
    "from plotnine import *\n",
    "from sklearn.ensemble import RandomForestClassifier\n",
    "from imblearn.over_sampling import SMOTE\n",
    "from imblearn.under_sampling import RandomUnderSampler\n",
    "from sklearn.model_selection import train_test_split\n",
    "from sklearn import metrics"
   ]
  },
  {
   "cell_type": "code",
   "execution_count": 6,
   "metadata": {},
   "outputs": [],
   "source": [
    "PATH_DATA = \"../data/interim/iterim2.csv\""
   ]
  },
  {
   "cell_type": "code",
   "execution_count": 7,
   "metadata": {},
   "outputs": [],
   "source": [
    "df = pd.read_csv(PATH_DATA)"
   ]
  },
  {
   "cell_type": "code",
   "execution_count": 10,
   "metadata": {},
   "outputs": [
    {
     "data": {
      "text/html": [
       "<div>\n",
       "<style scoped>\n",
       "    .dataframe tbody tr th:only-of-type {\n",
       "        vertical-align: middle;\n",
       "    }\n",
       "\n",
       "    .dataframe tbody tr th {\n",
       "        vertical-align: top;\n",
       "    }\n",
       "\n",
       "    .dataframe thead th {\n",
       "        text-align: right;\n",
       "    }\n",
       "</style>\n",
       "<table border=\"1\" class=\"dataframe\">\n",
       "  <thead>\n",
       "    <tr style=\"text-align: right;\">\n",
       "      <th></th>\n",
       "      <th>Unnamed: 0</th>\n",
       "      <th>time</th>\n",
       "      <th>kemendagri_kabupaten_kode</th>\n",
       "      <th>kemendagri_kabupaten_nama</th>\n",
       "      <th>street</th>\n",
       "      <th>level</th>\n",
       "      <th>median_length</th>\n",
       "      <th>median_delay</th>\n",
       "      <th>median_speed_kmh</th>\n",
       "      <th>total_records</th>\n",
       "      <th>...</th>\n",
       "      <th>level_q25_x</th>\n",
       "      <th>level_q50_x</th>\n",
       "      <th>level_q75_x</th>\n",
       "      <th>total_records_avg_y</th>\n",
       "      <th>total_records_q25_y</th>\n",
       "      <th>total_records_q50_y</th>\n",
       "      <th>total_records_q75_y</th>\n",
       "      <th>level_q25_y</th>\n",
       "      <th>level_q50_y</th>\n",
       "      <th>level_q75_y</th>\n",
       "    </tr>\n",
       "  </thead>\n",
       "  <tbody>\n",
       "    <tr>\n",
       "      <th>121110</th>\n",
       "      <td>121110</td>\n",
       "      <td>2022-07-30 12:00:00</td>\n",
       "      <td>32.73</td>\n",
       "      <td>KOTA BANDUNG</td>\n",
       "      <td>Abdul Rahman Saleh</td>\n",
       "      <td>2</td>\n",
       "      <td>838.0</td>\n",
       "      <td>82.5</td>\n",
       "      <td>18.99</td>\n",
       "      <td>30</td>\n",
       "      <td>...</td>\n",
       "      <td>2.0</td>\n",
       "      <td>3.0</td>\n",
       "      <td>3.0</td>\n",
       "      <td>16.186992</td>\n",
       "      <td>5.0</td>\n",
       "      <td>12.0</td>\n",
       "      <td>23.0</td>\n",
       "      <td>2.0</td>\n",
       "      <td>2.0</td>\n",
       "      <td>3.0</td>\n",
       "    </tr>\n",
       "    <tr>\n",
       "      <th>97677</th>\n",
       "      <td>97677</td>\n",
       "      <td>2022-07-25 16:00:00</td>\n",
       "      <td>32.73</td>\n",
       "      <td>KOTA BANDUNG</td>\n",
       "      <td>Tamansari</td>\n",
       "      <td>1</td>\n",
       "      <td>1250.0</td>\n",
       "      <td>73.0</td>\n",
       "      <td>24.55</td>\n",
       "      <td>33</td>\n",
       "      <td>...</td>\n",
       "      <td>1.0</td>\n",
       "      <td>2.0</td>\n",
       "      <td>3.0</td>\n",
       "      <td>25.903393</td>\n",
       "      <td>6.0</td>\n",
       "      <td>15.0</td>\n",
       "      <td>30.0</td>\n",
       "      <td>1.0</td>\n",
       "      <td>2.0</td>\n",
       "      <td>3.0</td>\n",
       "    </tr>\n",
       "    <tr>\n",
       "      <th>154084</th>\n",
       "      <td>154084</td>\n",
       "      <td>2022-08-05 16:00:00</td>\n",
       "      <td>32.73</td>\n",
       "      <td>KOTA BANDUNG</td>\n",
       "      <td>Jalan ABC</td>\n",
       "      <td>2</td>\n",
       "      <td>551.0</td>\n",
       "      <td>93.0</td>\n",
       "      <td>11.83</td>\n",
       "      <td>9</td>\n",
       "      <td>...</td>\n",
       "      <td>2.0</td>\n",
       "      <td>3.0</td>\n",
       "      <td>3.0</td>\n",
       "      <td>8.927438</td>\n",
       "      <td>3.0</td>\n",
       "      <td>7.0</td>\n",
       "      <td>13.0</td>\n",
       "      <td>2.0</td>\n",
       "      <td>2.0</td>\n",
       "      <td>3.0</td>\n",
       "    </tr>\n",
       "    <tr>\n",
       "      <th>63837</th>\n",
       "      <td>63837</td>\n",
       "      <td>2022-07-19 12:00:00</td>\n",
       "      <td>32.73</td>\n",
       "      <td>KOTA BANDUNG</td>\n",
       "      <td>Pajajaran</td>\n",
       "      <td>2</td>\n",
       "      <td>990.0</td>\n",
       "      <td>79.0</td>\n",
       "      <td>20.71</td>\n",
       "      <td>37</td>\n",
       "      <td>...</td>\n",
       "      <td>2.0</td>\n",
       "      <td>3.0</td>\n",
       "      <td>3.0</td>\n",
       "      <td>21.199150</td>\n",
       "      <td>7.0</td>\n",
       "      <td>17.0</td>\n",
       "      <td>32.0</td>\n",
       "      <td>2.0</td>\n",
       "      <td>3.0</td>\n",
       "      <td>3.0</td>\n",
       "    </tr>\n",
       "    <tr>\n",
       "      <th>77338</th>\n",
       "      <td>77338</td>\n",
       "      <td>2022-07-22 07:00:00</td>\n",
       "      <td>32.73</td>\n",
       "      <td>KOTA BANDUNG</td>\n",
       "      <td>Cijerah Raya</td>\n",
       "      <td>3</td>\n",
       "      <td>530.0</td>\n",
       "      <td>110.5</td>\n",
       "      <td>11.33</td>\n",
       "      <td>10</td>\n",
       "      <td>...</td>\n",
       "      <td>2.0</td>\n",
       "      <td>2.0</td>\n",
       "      <td>3.0</td>\n",
       "      <td>16.432475</td>\n",
       "      <td>5.0</td>\n",
       "      <td>12.0</td>\n",
       "      <td>23.0</td>\n",
       "      <td>2.0</td>\n",
       "      <td>2.0</td>\n",
       "      <td>3.0</td>\n",
       "    </tr>\n",
       "  </tbody>\n",
       "</table>\n",
       "<p>5 rows × 47 columns</p>\n",
       "</div>"
      ],
      "text/plain": [
       "        Unnamed: 0                 time  kemendagri_kabupaten_kode  \\\n",
       "121110      121110  2022-07-30 12:00:00                      32.73   \n",
       "97677        97677  2022-07-25 16:00:00                      32.73   \n",
       "154084      154084  2022-08-05 16:00:00                      32.73   \n",
       "63837        63837  2022-07-19 12:00:00                      32.73   \n",
       "77338        77338  2022-07-22 07:00:00                      32.73   \n",
       "\n",
       "       kemendagri_kabupaten_nama              street  level  median_length  \\\n",
       "121110              KOTA BANDUNG  Abdul Rahman Saleh      2          838.0   \n",
       "97677               KOTA BANDUNG           Tamansari      1         1250.0   \n",
       "154084              KOTA BANDUNG           Jalan ABC      2          551.0   \n",
       "63837               KOTA BANDUNG           Pajajaran      2          990.0   \n",
       "77338               KOTA BANDUNG        Cijerah Raya      3          530.0   \n",
       "\n",
       "        median_delay  median_speed_kmh  total_records  ...  level_q25_x  \\\n",
       "121110          82.5             18.99             30  ...          2.0   \n",
       "97677           73.0             24.55             33  ...          1.0   \n",
       "154084          93.0             11.83              9  ...          2.0   \n",
       "63837           79.0             20.71             37  ...          2.0   \n",
       "77338          110.5             11.33             10  ...          2.0   \n",
       "\n",
       "       level_q50_x  level_q75_x total_records_avg_y total_records_q25_y  \\\n",
       "121110         3.0          3.0           16.186992                 5.0   \n",
       "97677          2.0          3.0           25.903393                 6.0   \n",
       "154084         3.0          3.0            8.927438                 3.0   \n",
       "63837          3.0          3.0           21.199150                 7.0   \n",
       "77338          2.0          3.0           16.432475                 5.0   \n",
       "\n",
       "        total_records_q50_y  total_records_q75_y  level_q25_y  level_q50_y  \\\n",
       "121110                 12.0                 23.0          2.0          2.0   \n",
       "97677                  15.0                 30.0          1.0          2.0   \n",
       "154084                  7.0                 13.0          2.0          2.0   \n",
       "63837                  17.0                 32.0          2.0          3.0   \n",
       "77338                  12.0                 23.0          2.0          2.0   \n",
       "\n",
       "        level_q75_y  \n",
       "121110          3.0  \n",
       "97677           3.0  \n",
       "154084          3.0  \n",
       "63837           3.0  \n",
       "77338           3.0  \n",
       "\n",
       "[5 rows x 47 columns]"
      ]
     },
     "execution_count": 10,
     "metadata": {},
     "output_type": "execute_result"
    }
   ],
   "source": [
    "df.sample(5)"
   ]
  },
  {
   "cell_type": "code",
   "execution_count": 29,
   "metadata": {},
   "outputs": [],
   "source": [
    "sampling_strategy={\n",
    "  1 : 0.2,\n",
    "  2 : 0.2,\n",
    "  3 : 0.2,\n",
    "  4 : 0.2,\n",
    "  5 : 0.2,\n",
    "}\n",
    "\n",
    "sampling_strategy ='auto'\n",
    "\n",
    "undersample = RandomUnderSampler(sampling_strategy=sampling_strategy)"
   ]
  },
  {
   "cell_type": "code",
   "execution_count": 30,
   "metadata": {},
   "outputs": [],
   "source": [
    "X, y = df.drop(columns=['Unnamed: 0']), df['level']"
   ]
  },
  {
   "cell_type": "code",
   "execution_count": 31,
   "metadata": {},
   "outputs": [],
   "source": [
    "X_over, y_over = undersample.fit_resample(X, y.values)"
   ]
  },
  {
   "cell_type": "code",
   "execution_count": 37,
   "metadata": {},
   "outputs": [
    {
     "data": {
      "text/plain": [
       "(array([1, 2, 3, 4, 5], dtype=int64),\n",
       " array([8501, 8501, 8501, 8501, 8501], dtype=int64))"
      ]
     },
     "execution_count": 37,
     "metadata": {},
     "output_type": "execute_result"
    }
   ],
   "source": [
    "np.unique(y_over, return_counts=True)"
   ]
  },
  {
   "cell_type": "code",
   "execution_count": 50,
   "metadata": {},
   "outputs": [],
   "source": [
    "x_use_cols = ['street',  'median_length', 'median_delay', 'median_speed_kmh',\n",
    "       'total_records', 'median_level',\n",
    "       'is_weekend', 'is_holiday', 'hour', 'peak_hour', 'busy_hour',\n",
    "       'total_records_holiday_sum', 'total_records_holiday_q25',\n",
    "       'total_records_holiday_q75', 'total_records_holiday_mean',\n",
    "       'total_records_holiday_q50', 'total_records_busy_hour_mean',\n",
    "       'total_records_busy_hour_sum', 'total_records_busy_hour_q25',\n",
    "       'total_records_busy_hour_q50', 'total_records_busy_hour_q75',\n",
    "       'total_records_avg_x', 'total_records_q25_x', 'total_records_q50_x',\n",
    "       'total_records_q75_x', 'level_q25_x', 'level_q50_x', 'level_q75_x',\n",
    "       'total_records_avg_y', 'total_records_q25_y', 'total_records_q50_y',\n",
    "       'total_records_q75_y', 'level_q25_y', 'level_q50_y', 'level_q75_y']\n",
    "y_use_cols = ['level']"
   ]
  },
  {
   "cell_type": "code",
   "execution_count": 51,
   "metadata": {},
   "outputs": [],
   "source": [
    "X_bal = df[x_use_cols]\n",
    "y_bal = df[y_use_cols]"
   ]
  },
  {
   "cell_type": "code",
   "execution_count": 52,
   "metadata": {},
   "outputs": [
    {
     "data": {
      "text/html": [
       "<div>\n",
       "<style scoped>\n",
       "    .dataframe tbody tr th:only-of-type {\n",
       "        vertical-align: middle;\n",
       "    }\n",
       "\n",
       "    .dataframe tbody tr th {\n",
       "        vertical-align: top;\n",
       "    }\n",
       "\n",
       "    .dataframe thead th {\n",
       "        text-align: right;\n",
       "    }\n",
       "</style>\n",
       "<table border=\"1\" class=\"dataframe\">\n",
       "  <thead>\n",
       "    <tr style=\"text-align: right;\">\n",
       "      <th></th>\n",
       "      <th>street</th>\n",
       "      <th>median_length</th>\n",
       "      <th>median_delay</th>\n",
       "      <th>median_speed_kmh</th>\n",
       "      <th>total_records</th>\n",
       "      <th>median_level</th>\n",
       "      <th>is_weekend</th>\n",
       "      <th>is_holiday</th>\n",
       "      <th>hour</th>\n",
       "      <th>peak_hour</th>\n",
       "      <th>...</th>\n",
       "      <th>level_q25_x</th>\n",
       "      <th>level_q50_x</th>\n",
       "      <th>level_q75_x</th>\n",
       "      <th>total_records_avg_y</th>\n",
       "      <th>total_records_q25_y</th>\n",
       "      <th>total_records_q50_y</th>\n",
       "      <th>total_records_q75_y</th>\n",
       "      <th>level_q25_y</th>\n",
       "      <th>level_q50_y</th>\n",
       "      <th>level_q75_y</th>\n",
       "    </tr>\n",
       "  </thead>\n",
       "  <tbody>\n",
       "    <tr>\n",
       "      <th>113394</th>\n",
       "      <td>Diponegoro</td>\n",
       "      <td>438.0</td>\n",
       "      <td>97.0</td>\n",
       "      <td>11.96</td>\n",
       "      <td>11</td>\n",
       "      <td>3.0</td>\n",
       "      <td>0</td>\n",
       "      <td>0</td>\n",
       "      <td>20</td>\n",
       "      <td>0</td>\n",
       "      <td>...</td>\n",
       "      <td>2.0</td>\n",
       "      <td>3.0</td>\n",
       "      <td>4.0</td>\n",
       "      <td>16.750829</td>\n",
       "      <td>4.25</td>\n",
       "      <td>11.0</td>\n",
       "      <td>21.0</td>\n",
       "      <td>2.0</td>\n",
       "      <td>3.0</td>\n",
       "      <td>4.0</td>\n",
       "    </tr>\n",
       "    <tr>\n",
       "      <th>143288</th>\n",
       "      <td>Cibolerang</td>\n",
       "      <td>1031.0</td>\n",
       "      <td>103.0</td>\n",
       "      <td>13.48</td>\n",
       "      <td>3</td>\n",
       "      <td>1.0</td>\n",
       "      <td>0</td>\n",
       "      <td>0</td>\n",
       "      <td>15</td>\n",
       "      <td>1</td>\n",
       "      <td>...</td>\n",
       "      <td>1.0</td>\n",
       "      <td>2.0</td>\n",
       "      <td>2.0</td>\n",
       "      <td>10.646825</td>\n",
       "      <td>4.00</td>\n",
       "      <td>9.0</td>\n",
       "      <td>14.0</td>\n",
       "      <td>1.0</td>\n",
       "      <td>2.0</td>\n",
       "      <td>3.0</td>\n",
       "    </tr>\n",
       "    <tr>\n",
       "      <th>103888</th>\n",
       "      <td>Gede Bage</td>\n",
       "      <td>488.0</td>\n",
       "      <td>76.0</td>\n",
       "      <td>10.64</td>\n",
       "      <td>1</td>\n",
       "      <td>2.0</td>\n",
       "      <td>0</td>\n",
       "      <td>0</td>\n",
       "      <td>21</td>\n",
       "      <td>0</td>\n",
       "      <td>...</td>\n",
       "      <td>1.0</td>\n",
       "      <td>2.0</td>\n",
       "      <td>3.0</td>\n",
       "      <td>10.870421</td>\n",
       "      <td>4.00</td>\n",
       "      <td>9.0</td>\n",
       "      <td>15.0</td>\n",
       "      <td>1.0</td>\n",
       "      <td>2.0</td>\n",
       "      <td>3.0</td>\n",
       "    </tr>\n",
       "  </tbody>\n",
       "</table>\n",
       "<p>3 rows × 35 columns</p>\n",
       "</div>"
      ],
      "text/plain": [
       "            street  median_length  median_delay  median_speed_kmh  \\\n",
       "113394  Diponegoro          438.0          97.0             11.96   \n",
       "143288  Cibolerang         1031.0         103.0             13.48   \n",
       "103888   Gede Bage          488.0          76.0             10.64   \n",
       "\n",
       "        total_records  median_level  is_weekend  is_holiday  hour  peak_hour  \\\n",
       "113394             11           3.0           0           0    20          0   \n",
       "143288              3           1.0           0           0    15          1   \n",
       "103888              1           2.0           0           0    21          0   \n",
       "\n",
       "        ...  level_q25_x  level_q50_x  level_q75_x  total_records_avg_y  \\\n",
       "113394  ...          2.0          3.0          4.0            16.750829   \n",
       "143288  ...          1.0          2.0          2.0            10.646825   \n",
       "103888  ...          1.0          2.0          3.0            10.870421   \n",
       "\n",
       "        total_records_q25_y  total_records_q50_y  total_records_q75_y  \\\n",
       "113394                 4.25                 11.0                 21.0   \n",
       "143288                 4.00                  9.0                 14.0   \n",
       "103888                 4.00                  9.0                 15.0   \n",
       "\n",
       "        level_q25_y  level_q50_y  level_q75_y  \n",
       "113394          2.0          3.0          4.0  \n",
       "143288          1.0          2.0          3.0  \n",
       "103888          1.0          2.0          3.0  \n",
       "\n",
       "[3 rows x 35 columns]"
      ]
     },
     "execution_count": 52,
     "metadata": {},
     "output_type": "execute_result"
    }
   ],
   "source": [
    "X_bal.sample(3)"
   ]
  },
  {
   "cell_type": "code",
   "execution_count": 54,
   "metadata": {},
   "outputs": [
    {
     "data": {
      "text/html": [
       "<div>\n",
       "<style scoped>\n",
       "    .dataframe tbody tr th:only-of-type {\n",
       "        vertical-align: middle;\n",
       "    }\n",
       "\n",
       "    .dataframe tbody tr th {\n",
       "        vertical-align: top;\n",
       "    }\n",
       "\n",
       "    .dataframe thead th {\n",
       "        text-align: right;\n",
       "    }\n",
       "</style>\n",
       "<table border=\"1\" class=\"dataframe\">\n",
       "  <thead>\n",
       "    <tr style=\"text-align: right;\">\n",
       "      <th></th>\n",
       "      <th>level</th>\n",
       "    </tr>\n",
       "  </thead>\n",
       "  <tbody>\n",
       "    <tr>\n",
       "      <th>265287</th>\n",
       "      <td>3</td>\n",
       "    </tr>\n",
       "    <tr>\n",
       "      <th>291191</th>\n",
       "      <td>5</td>\n",
       "    </tr>\n",
       "    <tr>\n",
       "      <th>54130</th>\n",
       "      <td>2</td>\n",
       "    </tr>\n",
       "  </tbody>\n",
       "</table>\n",
       "</div>"
      ],
      "text/plain": [
       "        level\n",
       "265287      3\n",
       "291191      5\n",
       "54130       2"
      ]
     },
     "execution_count": 54,
     "metadata": {},
     "output_type": "execute_result"
    }
   ],
   "source": [
    "y_bal.sample(3)"
   ]
  },
  {
   "cell_type": "code",
   "execution_count": 71,
   "metadata": {},
   "outputs": [],
   "source": [
    "# Label encoder\n",
    "street_label_dic = {'undefined': 0}\n",
    "street_label = [0]\n",
    "street_encoded = []"
   ]
  },
  {
   "cell_type": "code",
   "execution_count": 87,
   "metadata": {},
   "outputs": [],
   "source": [
    "for index, rows in X_bal.iterrows():\n",
    "  if not rows['street'] in street_label_dic:\n",
    "    street_label.append((max(street_label) + 1))   \n",
    "    street_label_dic[rows['street']] = max(street_label)\n",
    "  street_encoded = street_label_dic[rows['street']]"
   ]
  },
  {
   "cell_type": "code",
   "execution_count": 88,
   "metadata": {},
   "outputs": [
    {
     "name": "stderr",
     "output_type": "stream",
     "text": [
      "<ipython-input-88-d03f8c17f22d>:1: SettingWithCopyWarning: \n",
      "A value is trying to be set on a copy of a slice from a DataFrame.\n",
      "Try using .loc[row_indexer,col_indexer] = value instead\n",
      "\n",
      "See the caveats in the documentation: https://pandas.pydata.org/pandas-docs/stable/user_guide/indexing.html#returning-a-view-versus-a-copy\n"
     ]
    }
   ],
   "source": [
    "X_bal['street'] = street_encoded"
   ]
  },
  {
   "cell_type": "code",
   "execution_count": 89,
   "metadata": {},
   "outputs": [],
   "source": [
    "X_train, X_test, y_train, y_test = train_test_split(X_bal, y_bal, test_size=0.33, random_state=42)"
   ]
  },
  {
   "cell_type": "code",
   "execution_count": 90,
   "metadata": {},
   "outputs": [],
   "source": [
    "clf = RandomForestClassifier(max_depth=10, random_state=42, n_estimators=35)"
   ]
  },
  {
   "cell_type": "code",
   "execution_count": 91,
   "metadata": {},
   "outputs": [
    {
     "name": "stderr",
     "output_type": "stream",
     "text": [
      "<ipython-input-91-86937c1966f0>:1: DataConversionWarning: A column-vector y was passed when a 1d array was expected. Please change the shape of y to (n_samples,), for example using ravel().\n"
     ]
    },
    {
     "data": {
      "text/html": [
       "<style>#sk-container-id-1 {color: black;background-color: white;}#sk-container-id-1 pre{padding: 0;}#sk-container-id-1 div.sk-toggleable {background-color: white;}#sk-container-id-1 label.sk-toggleable__label {cursor: pointer;display: block;width: 100%;margin-bottom: 0;padding: 0.3em;box-sizing: border-box;text-align: center;}#sk-container-id-1 label.sk-toggleable__label-arrow:before {content: \"▸\";float: left;margin-right: 0.25em;color: #696969;}#sk-container-id-1 label.sk-toggleable__label-arrow:hover:before {color: black;}#sk-container-id-1 div.sk-estimator:hover label.sk-toggleable__label-arrow:before {color: black;}#sk-container-id-1 div.sk-toggleable__content {max-height: 0;max-width: 0;overflow: hidden;text-align: left;background-color: #f0f8ff;}#sk-container-id-1 div.sk-toggleable__content pre {margin: 0.2em;color: black;border-radius: 0.25em;background-color: #f0f8ff;}#sk-container-id-1 input.sk-toggleable__control:checked~div.sk-toggleable__content {max-height: 200px;max-width: 100%;overflow: auto;}#sk-container-id-1 input.sk-toggleable__control:checked~label.sk-toggleable__label-arrow:before {content: \"▾\";}#sk-container-id-1 div.sk-estimator input.sk-toggleable__control:checked~label.sk-toggleable__label {background-color: #d4ebff;}#sk-container-id-1 div.sk-label input.sk-toggleable__control:checked~label.sk-toggleable__label {background-color: #d4ebff;}#sk-container-id-1 input.sk-hidden--visually {border: 0;clip: rect(1px 1px 1px 1px);clip: rect(1px, 1px, 1px, 1px);height: 1px;margin: -1px;overflow: hidden;padding: 0;position: absolute;width: 1px;}#sk-container-id-1 div.sk-estimator {font-family: monospace;background-color: #f0f8ff;border: 1px dotted black;border-radius: 0.25em;box-sizing: border-box;margin-bottom: 0.5em;}#sk-container-id-1 div.sk-estimator:hover {background-color: #d4ebff;}#sk-container-id-1 div.sk-parallel-item::after {content: \"\";width: 100%;border-bottom: 1px solid gray;flex-grow: 1;}#sk-container-id-1 div.sk-label:hover label.sk-toggleable__label {background-color: #d4ebff;}#sk-container-id-1 div.sk-serial::before {content: \"\";position: absolute;border-left: 1px solid gray;box-sizing: border-box;top: 0;bottom: 0;left: 50%;z-index: 0;}#sk-container-id-1 div.sk-serial {display: flex;flex-direction: column;align-items: center;background-color: white;padding-right: 0.2em;padding-left: 0.2em;position: relative;}#sk-container-id-1 div.sk-item {position: relative;z-index: 1;}#sk-container-id-1 div.sk-parallel {display: flex;align-items: stretch;justify-content: center;background-color: white;position: relative;}#sk-container-id-1 div.sk-item::before, #sk-container-id-1 div.sk-parallel-item::before {content: \"\";position: absolute;border-left: 1px solid gray;box-sizing: border-box;top: 0;bottom: 0;left: 50%;z-index: -1;}#sk-container-id-1 div.sk-parallel-item {display: flex;flex-direction: column;z-index: 1;position: relative;background-color: white;}#sk-container-id-1 div.sk-parallel-item:first-child::after {align-self: flex-end;width: 50%;}#sk-container-id-1 div.sk-parallel-item:last-child::after {align-self: flex-start;width: 50%;}#sk-container-id-1 div.sk-parallel-item:only-child::after {width: 0;}#sk-container-id-1 div.sk-dashed-wrapped {border: 1px dashed gray;margin: 0 0.4em 0.5em 0.4em;box-sizing: border-box;padding-bottom: 0.4em;background-color: white;}#sk-container-id-1 div.sk-label label {font-family: monospace;font-weight: bold;display: inline-block;line-height: 1.2em;}#sk-container-id-1 div.sk-label-container {text-align: center;}#sk-container-id-1 div.sk-container {/* jupyter's `normalize.less` sets `[hidden] { display: none; }` but bootstrap.min.css set `[hidden] { display: none !important; }` so we also need the `!important` here to be able to override the default hidden behavior on the sphinx rendered scikit-learn.org. See: https://github.com/scikit-learn/scikit-learn/issues/21755 */display: inline-block !important;position: relative;}#sk-container-id-1 div.sk-text-repr-fallback {display: none;}</style><div id=\"sk-container-id-1\" class=\"sk-top-container\"><div class=\"sk-text-repr-fallback\"><pre>RandomForestClassifier(max_depth=10, n_estimators=35, random_state=42)</pre><b>In a Jupyter environment, please rerun this cell to show the HTML representation or trust the notebook. <br />On GitHub, the HTML representation is unable to render, please try loading this page with nbviewer.org.</b></div><div class=\"sk-container\" hidden><div class=\"sk-item\"><div class=\"sk-estimator sk-toggleable\"><input class=\"sk-toggleable__control sk-hidden--visually\" id=\"sk-estimator-id-1\" type=\"checkbox\" checked><label for=\"sk-estimator-id-1\" class=\"sk-toggleable__label sk-toggleable__label-arrow\">RandomForestClassifier</label><div class=\"sk-toggleable__content\"><pre>RandomForestClassifier(max_depth=10, n_estimators=35, random_state=42)</pre></div></div></div></div></div>"
      ],
      "text/plain": [
       "RandomForestClassifier(max_depth=10, n_estimators=35, random_state=42)"
      ]
     },
     "execution_count": 91,
     "metadata": {},
     "output_type": "execute_result"
    }
   ],
   "source": [
    "clf.fit(X_train,y_train)"
   ]
  },
  {
   "cell_type": "code",
   "execution_count": 92,
   "metadata": {},
   "outputs": [],
   "source": [
    "y_pred = clf.predict(X_test)"
   ]
  },
  {
   "cell_type": "code",
   "execution_count": 94,
   "metadata": {},
   "outputs": [
    {
     "data": {
      "text/plain": [
       "0.9986052438816364"
      ]
     },
     "execution_count": 94,
     "metadata": {},
     "output_type": "execute_result"
    }
   ],
   "source": [
    "metrics.accuracy_score(y_pred,y_test)"
   ]
  },
  {
   "cell_type": "code",
   "execution_count": 98,
   "metadata": {},
   "outputs": [
    {
     "data": {
      "text/plain": [
       "array([[13060,    98,     4,     0,     0],\n",
       "       [    0, 33946,     0,     0,     0],\n",
       "       [    0,     0, 33348,     0,     0],\n",
       "       [    0,     0,    37, 16336,     0],\n",
       "       [    0,     0,     0,     0,  2830]], dtype=int64)"
      ]
     },
     "execution_count": 98,
     "metadata": {},
     "output_type": "execute_result"
    }
   ],
   "source": [
    "metrics.confusion_matrix(y_test, y_pred)"
   ]
  },
  {
   "cell_type": "code",
   "execution_count": null,
   "metadata": {},
   "outputs": [],
   "source": []
  }
 ],
 "metadata": {
  "kernelspec": {
   "display_name": "Python 3",
   "language": "python",
   "name": "python3"
  },
  "language_info": {
   "codemirror_mode": {
    "name": "ipython",
    "version": 3
   },
   "file_extension": ".py",
   "mimetype": "text/x-python",
   "name": "python",
   "nbconvert_exporter": "python",
   "pygments_lexer": "ipython3",
   "version": "3.8.2"
  },
  "orig_nbformat": 4,
  "vscode": {
   "interpreter": {
    "hash": "9650cb4e16cdd4a8e8e2d128bf38d875813998db22a3c986335f89e0cb4d7bb2"
   }
  }
 },
 "nbformat": 4,
 "nbformat_minor": 2
}
