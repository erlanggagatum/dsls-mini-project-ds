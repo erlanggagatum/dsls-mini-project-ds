{
 "cells": [
  {
   "attachments": {},
   "cell_type": "markdown",
   "metadata": {},
   "source": [
    "# Feature Engineering 2\n",
    "### Street Level Feature"
   ]
  },
  {
   "cell_type": "code",
   "execution_count": 6,
   "metadata": {},
   "outputs": [],
   "source": [
    "import pandas as pd\n",
    "import numpy as np\n",
    "from plotnine import *\n",
    "from shapely import wkt\n",
    "import geopandas as gpd\n",
    "from datetime import datetime"
   ]
  },
  {
   "cell_type": "code",
   "execution_count": 7,
   "metadata": {},
   "outputs": [],
   "source": [
    "PATH_RAW = '../data/raw/'\n",
    "PATH_INTERIM = '../data/interim/'"
   ]
  },
  {
   "cell_type": "code",
   "execution_count": 8,
   "metadata": {},
   "outputs": [],
   "source": [
    "# 50th Percentile\n",
    "def q50(x):\n",
    "    return x.quantile(0.5)\n",
    "def q75(x):\n",
    "    return x.quantile(0.75)\n",
    "def q25(x):\n",
    "    return x.quantile(0.25)"
   ]
  },
  {
   "cell_type": "code",
   "execution_count": 12,
   "metadata": {},
   "outputs": [],
   "source": [
    "df = pd.read_csv(PATH_INTERIM+\"iterim1.csv\").iloc[:,2:]"
   ]
  },
  {
   "cell_type": "code",
   "execution_count": 14,
   "metadata": {},
   "outputs": [
    {
     "data": {
      "text/html": [
       "<div>\n",
       "<style scoped>\n",
       "    .dataframe tbody tr th:only-of-type {\n",
       "        vertical-align: middle;\n",
       "    }\n",
       "\n",
       "    .dataframe tbody tr th {\n",
       "        vertical-align: top;\n",
       "    }\n",
       "\n",
       "    .dataframe thead th {\n",
       "        text-align: right;\n",
       "    }\n",
       "</style>\n",
       "<table border=\"1\" class=\"dataframe\">\n",
       "  <thead>\n",
       "    <tr style=\"text-align: right;\">\n",
       "      <th></th>\n",
       "      <th>time</th>\n",
       "      <th>kemendagri_kabupaten_kode</th>\n",
       "      <th>kemendagri_kabupaten_nama</th>\n",
       "      <th>street</th>\n",
       "      <th>level</th>\n",
       "      <th>median_length</th>\n",
       "      <th>median_delay</th>\n",
       "      <th>median_speed_kmh</th>\n",
       "      <th>total_records</th>\n",
       "      <th>id</th>\n",
       "      <th>...</th>\n",
       "      <th>total_records_holiday_sum</th>\n",
       "      <th>total_records_holiday_q25</th>\n",
       "      <th>total_records_holiday_q75</th>\n",
       "      <th>total_records_holiday_mean</th>\n",
       "      <th>total_records_holiday_q50</th>\n",
       "      <th>total_records_busy_hour_mean</th>\n",
       "      <th>total_records_busy_hour_sum</th>\n",
       "      <th>total_records_busy_hour_q25</th>\n",
       "      <th>total_records_busy_hour_q50</th>\n",
       "      <th>total_records_busy_hour_q75</th>\n",
       "    </tr>\n",
       "  </thead>\n",
       "  <tbody>\n",
       "    <tr>\n",
       "      <th>163762</th>\n",
       "      <td>2022-08-08 15:00:00</td>\n",
       "      <td>32.73</td>\n",
       "      <td>KOTA BANDUNG</td>\n",
       "      <td>Ir Haji Juanda</td>\n",
       "      <td>2</td>\n",
       "      <td>1335.0</td>\n",
       "      <td>125.0</td>\n",
       "      <td>16.689999</td>\n",
       "      <td>84</td>\n",
       "      <td>35608346</td>\n",
       "      <td>...</td>\n",
       "      <td>2012056</td>\n",
       "      <td>4.0</td>\n",
       "      <td>25.0</td>\n",
       "      <td>21.431526</td>\n",
       "      <td>10.0</td>\n",
       "      <td>54.976169</td>\n",
       "      <td>304513.0</td>\n",
       "      <td>4.0</td>\n",
       "      <td>10.0</td>\n",
       "      <td>118.0</td>\n",
       "    </tr>\n",
       "    <tr>\n",
       "      <th>209857</th>\n",
       "      <td>2022-08-17 18:00:00</td>\n",
       "      <td>32.73</td>\n",
       "      <td>KOTA BANDUNG</td>\n",
       "      <td>Akses Tol Pasteur</td>\n",
       "      <td>3</td>\n",
       "      <td>187.0</td>\n",
       "      <td>90.5</td>\n",
       "      <td>4.780000</td>\n",
       "      <td>8</td>\n",
       "      <td>36146780</td>\n",
       "      <td>...</td>\n",
       "      <td>4433653</td>\n",
       "      <td>4.0</td>\n",
       "      <td>25.0</td>\n",
       "      <td>21.304168</td>\n",
       "      <td>11.0</td>\n",
       "      <td>54.976169</td>\n",
       "      <td>304513.0</td>\n",
       "      <td>4.0</td>\n",
       "      <td>10.0</td>\n",
       "      <td>118.0</td>\n",
       "    </tr>\n",
       "  </tbody>\n",
       "</table>\n",
       "<p>2 rows × 29 columns</p>\n",
       "</div>"
      ],
      "text/plain": [
       "                       time  kemendagri_kabupaten_kode  \\\n",
       "163762  2022-08-08 15:00:00                      32.73   \n",
       "209857  2022-08-17 18:00:00                      32.73   \n",
       "\n",
       "       kemendagri_kabupaten_nama             street  level  median_length  \\\n",
       "163762              KOTA BANDUNG     Ir Haji Juanda      2         1335.0   \n",
       "209857              KOTA BANDUNG  Akses Tol Pasteur      3          187.0   \n",
       "\n",
       "        median_delay  median_speed_kmh  total_records        id  ...  \\\n",
       "163762         125.0         16.689999             84  35608346  ...   \n",
       "209857          90.5          4.780000              8  36146780  ...   \n",
       "\n",
       "       total_records_holiday_sum  total_records_holiday_q25  \\\n",
       "163762                   2012056                        4.0   \n",
       "209857                   4433653                        4.0   \n",
       "\n",
       "       total_records_holiday_q75 total_records_holiday_mean  \\\n",
       "163762                      25.0                  21.431526   \n",
       "209857                      25.0                  21.304168   \n",
       "\n",
       "        total_records_holiday_q50  total_records_busy_hour_mean  \\\n",
       "163762                       10.0                     54.976169   \n",
       "209857                       11.0                     54.976169   \n",
       "\n",
       "        total_records_busy_hour_sum  total_records_busy_hour_q25  \\\n",
       "163762                     304513.0                          4.0   \n",
       "209857                     304513.0                          4.0   \n",
       "\n",
       "        total_records_busy_hour_q50  total_records_busy_hour_q75  \n",
       "163762                         10.0                        118.0  \n",
       "209857                         10.0                        118.0  \n",
       "\n",
       "[2 rows x 29 columns]"
      ]
     },
     "execution_count": 14,
     "metadata": {},
     "output_type": "execute_result"
    }
   ],
   "source": [
    "df.sample(2)"
   ]
  },
  {
   "cell_type": "code",
   "execution_count": 21,
   "metadata": {},
   "outputs": [
    {
     "name": "stdout",
     "output_type": "stream",
     "text": [
      "1162\n"
     ]
    }
   ],
   "source": [
    "# street is repeated, but it combined with different jams level\n",
    "print(len(df.street.unique()))"
   ]
  },
  {
   "attachments": {},
   "cell_type": "markdown",
   "metadata": {},
   "source": [
    "#### Street + weekend and Street + holiday"
   ]
  },
  {
   "cell_type": "code",
   "execution_count": 44,
   "metadata": {},
   "outputs": [],
   "source": [
    "street_weekend = []\n",
    "for i, rows in df.iterrows():\n",
    "  street_weekend.append(str(rows['street']) + \"_\" +str(rows['is_weekend']))"
   ]
  },
  {
   "cell_type": "code",
   "execution_count": 46,
   "metadata": {},
   "outputs": [],
   "source": [
    "df['street_weekend'] = street_weekend"
   ]
  },
  {
   "cell_type": "code",
   "execution_count": 50,
   "metadata": {},
   "outputs": [],
   "source": [
    "street_holiday = []\n",
    "for i, rows in df.iterrows():\n",
    "  if(rows['is_holiday'] and not rows['is_weekend']):\n",
    "    street_holiday.append(str(rows['street']) + \"_\" +str(rows['is_holiday']))\n",
    "  else:\n",
    "    street_holiday.append(str(rows['street']) + \"_0\")"
   ]
  },
  {
   "cell_type": "code",
   "execution_count": 51,
   "metadata": {},
   "outputs": [],
   "source": [
    "df['street_holiday'] = street_holiday"
   ]
  },
  {
   "cell_type": "code",
   "execution_count": 52,
   "metadata": {},
   "outputs": [
    {
     "data": {
      "text/html": [
       "<div>\n",
       "<style scoped>\n",
       "    .dataframe tbody tr th:only-of-type {\n",
       "        vertical-align: middle;\n",
       "    }\n",
       "\n",
       "    .dataframe tbody tr th {\n",
       "        vertical-align: top;\n",
       "    }\n",
       "\n",
       "    .dataframe thead th {\n",
       "        text-align: right;\n",
       "    }\n",
       "</style>\n",
       "<table border=\"1\" class=\"dataframe\">\n",
       "  <thead>\n",
       "    <tr style=\"text-align: right;\">\n",
       "      <th></th>\n",
       "      <th>time</th>\n",
       "      <th>kemendagri_kabupaten_kode</th>\n",
       "      <th>kemendagri_kabupaten_nama</th>\n",
       "      <th>street</th>\n",
       "      <th>level</th>\n",
       "      <th>median_length</th>\n",
       "      <th>median_delay</th>\n",
       "      <th>median_speed_kmh</th>\n",
       "      <th>total_records</th>\n",
       "      <th>id</th>\n",
       "      <th>...</th>\n",
       "      <th>total_records_holiday_mean</th>\n",
       "      <th>total_records_holiday_q50</th>\n",
       "      <th>total_records_busy_hour_mean</th>\n",
       "      <th>total_records_busy_hour_sum</th>\n",
       "      <th>total_records_busy_hour_q25</th>\n",
       "      <th>total_records_busy_hour_q50</th>\n",
       "      <th>total_records_busy_hour_q75</th>\n",
       "      <th>street_level</th>\n",
       "      <th>street_weekend</th>\n",
       "      <th>street_holiday</th>\n",
       "    </tr>\n",
       "  </thead>\n",
       "  <tbody>\n",
       "    <tr>\n",
       "      <th>192836</th>\n",
       "      <td>2022-08-14 09:00:00</td>\n",
       "      <td>32.73</td>\n",
       "      <td>KOTA BANDUNG</td>\n",
       "      <td>Otto Iskandardinata</td>\n",
       "      <td>3</td>\n",
       "      <td>728.0</td>\n",
       "      <td>130.0</td>\n",
       "      <td>12.48</td>\n",
       "      <td>36</td>\n",
       "      <td>35974099</td>\n",
       "      <td>...</td>\n",
       "      <td>21.304168</td>\n",
       "      <td>11.0</td>\n",
       "      <td>54.976169</td>\n",
       "      <td>304513.0</td>\n",
       "      <td>4.0</td>\n",
       "      <td>10.0</td>\n",
       "      <td>118.0</td>\n",
       "      <td>Otto Iskandardinata_3</td>\n",
       "      <td>Otto Iskandardinata_1</td>\n",
       "      <td>Otto Iskandardinata_0</td>\n",
       "    </tr>\n",
       "    <tr>\n",
       "      <th>268464</th>\n",
       "      <td>2022-08-29 13:00:00</td>\n",
       "      <td>32.73</td>\n",
       "      <td>KOTA BANDUNG</td>\n",
       "      <td>Jalan Malabar</td>\n",
       "      <td>3</td>\n",
       "      <td>239.0</td>\n",
       "      <td>107.0</td>\n",
       "      <td>5.54</td>\n",
       "      <td>13</td>\n",
       "      <td>36850223</td>\n",
       "      <td>...</td>\n",
       "      <td>21.431526</td>\n",
       "      <td>10.0</td>\n",
       "      <td>54.976169</td>\n",
       "      <td>304513.0</td>\n",
       "      <td>4.0</td>\n",
       "      <td>10.0</td>\n",
       "      <td>118.0</td>\n",
       "      <td>Jalan Malabar_3</td>\n",
       "      <td>Jalan Malabar_0</td>\n",
       "      <td>Jalan Malabar_0</td>\n",
       "    </tr>\n",
       "  </tbody>\n",
       "</table>\n",
       "<p>2 rows × 32 columns</p>\n",
       "</div>"
      ],
      "text/plain": [
       "                       time  kemendagri_kabupaten_kode  \\\n",
       "192836  2022-08-14 09:00:00                      32.73   \n",
       "268464  2022-08-29 13:00:00                      32.73   \n",
       "\n",
       "       kemendagri_kabupaten_nama               street  level  median_length  \\\n",
       "192836              KOTA BANDUNG  Otto Iskandardinata      3          728.0   \n",
       "268464              KOTA BANDUNG        Jalan Malabar      3          239.0   \n",
       "\n",
       "        median_delay  median_speed_kmh  total_records        id  ...  \\\n",
       "192836         130.0             12.48             36  35974099  ...   \n",
       "268464         107.0              5.54             13  36850223  ...   \n",
       "\n",
       "       total_records_holiday_mean  total_records_holiday_q50  \\\n",
       "192836                  21.304168                       11.0   \n",
       "268464                  21.431526                       10.0   \n",
       "\n",
       "       total_records_busy_hour_mean total_records_busy_hour_sum  \\\n",
       "192836                    54.976169                    304513.0   \n",
       "268464                    54.976169                    304513.0   \n",
       "\n",
       "        total_records_busy_hour_q25  total_records_busy_hour_q50  \\\n",
       "192836                          4.0                         10.0   \n",
       "268464                          4.0                         10.0   \n",
       "\n",
       "        total_records_busy_hour_q75           street_level  \\\n",
       "192836                        118.0  Otto Iskandardinata_3   \n",
       "268464                        118.0        Jalan Malabar_3   \n",
       "\n",
       "               street_weekend         street_holiday  \n",
       "192836  Otto Iskandardinata_1  Otto Iskandardinata_0  \n",
       "268464        Jalan Malabar_0        Jalan Malabar_0  \n",
       "\n",
       "[2 rows x 32 columns]"
      ]
     },
     "execution_count": 52,
     "metadata": {},
     "output_type": "execute_result"
    }
   ],
   "source": [
    "df.sample(2)"
   ]
  },
  {
   "attachments": {},
   "cell_type": "markdown",
   "metadata": {},
   "source": [
    "#### Metric on street_holiday and street_weekend\n",
    "\n",
    "1. total_records:\n",
    "avg, q25, q50, q75\n",
    "2. level:\n",
    "avg, q25, q50, q75"
   ]
  },
  {
   "attachments": {},
   "cell_type": "markdown",
   "metadata": {},
   "source": [
    "street_weekend"
   ]
  },
  {
   "cell_type": "code",
   "execution_count": 62,
   "metadata": {},
   "outputs": [],
   "source": [
    "grp_street_weekend = df.groupby('street_weekend')"
   ]
  },
  {
   "cell_type": "code",
   "execution_count": 65,
   "metadata": {},
   "outputs": [],
   "source": [
    "metrics = [np.mean, q25, q50, q75]\n",
    "metrics_name = [\"avg\", \"q25\", \"q50\", \"q75\"]\n",
    "col_func = {}\n",
    "col_func_name = ['street_weekend']\n",
    "\n",
    "for col in ['total_records', 'level']:\n",
    "  col_func[col] = metrics\n",
    "  for metric in metrics_name:\n",
    "    col_func_name.append(col+\"_\"+metric)  "
   ]
  },
  {
   "cell_type": "code",
   "execution_count": 78,
   "metadata": {},
   "outputs": [],
   "source": [
    "agg_street_weekend = grp_street_weekend.agg(col_func).reset_index()\n",
    "agg_street_weekend.columns = col_func_name\n",
    "# drop level_avg (it's categorical data)\n",
    "agg_street_weekend = agg_street_weekend.drop(columns=['level_avg'])"
   ]
  },
  {
   "cell_type": "code",
   "execution_count": 79,
   "metadata": {},
   "outputs": [
    {
     "data": {
      "text/html": [
       "<div>\n",
       "<style scoped>\n",
       "    .dataframe tbody tr th:only-of-type {\n",
       "        vertical-align: middle;\n",
       "    }\n",
       "\n",
       "    .dataframe tbody tr th {\n",
       "        vertical-align: top;\n",
       "    }\n",
       "\n",
       "    .dataframe thead th {\n",
       "        text-align: right;\n",
       "    }\n",
       "</style>\n",
       "<table border=\"1\" class=\"dataframe\">\n",
       "  <thead>\n",
       "    <tr style=\"text-align: right;\">\n",
       "      <th></th>\n",
       "      <th>street_weekend</th>\n",
       "      <th>total_records_avg</th>\n",
       "      <th>total_records_q25</th>\n",
       "      <th>total_records_q50</th>\n",
       "      <th>total_records_q75</th>\n",
       "      <th>level_q25</th>\n",
       "      <th>level_q50</th>\n",
       "      <th>level_q75</th>\n",
       "    </tr>\n",
       "  </thead>\n",
       "  <tbody>\n",
       "    <tr>\n",
       "      <th>1725</th>\n",
       "      <td>Taman Cibaduyut Indah_1</td>\n",
       "      <td>3.428571</td>\n",
       "      <td>1.0</td>\n",
       "      <td>2.0</td>\n",
       "      <td>5.0</td>\n",
       "      <td>2.0</td>\n",
       "      <td>3.0</td>\n",
       "      <td>4.0</td>\n",
       "    </tr>\n",
       "    <tr>\n",
       "      <th>282</th>\n",
       "      <td>Cigending_0</td>\n",
       "      <td>7.000000</td>\n",
       "      <td>3.0</td>\n",
       "      <td>7.0</td>\n",
       "      <td>10.0</td>\n",
       "      <td>1.0</td>\n",
       "      <td>2.0</td>\n",
       "      <td>2.0</td>\n",
       "    </tr>\n",
       "    <tr>\n",
       "      <th>981</th>\n",
       "      <td>Kuta Kencana Timur_0</td>\n",
       "      <td>1.000000</td>\n",
       "      <td>1.0</td>\n",
       "      <td>1.0</td>\n",
       "      <td>1.0</td>\n",
       "      <td>4.0</td>\n",
       "      <td>4.0</td>\n",
       "      <td>4.0</td>\n",
       "    </tr>\n",
       "    <tr>\n",
       "      <th>8</th>\n",
       "      <td>Adi Flora Raya_1</td>\n",
       "      <td>7.333333</td>\n",
       "      <td>4.0</td>\n",
       "      <td>9.0</td>\n",
       "      <td>9.0</td>\n",
       "      <td>1.0</td>\n",
       "      <td>2.0</td>\n",
       "      <td>2.0</td>\n",
       "    </tr>\n",
       "  </tbody>\n",
       "</table>\n",
       "</div>"
      ],
      "text/plain": [
       "               street_weekend  total_records_avg  total_records_q25  \\\n",
       "1725  Taman Cibaduyut Indah_1           3.428571                1.0   \n",
       "282               Cigending_0           7.000000                3.0   \n",
       "981      Kuta Kencana Timur_0           1.000000                1.0   \n",
       "8            Adi Flora Raya_1           7.333333                4.0   \n",
       "\n",
       "      total_records_q50  total_records_q75  level_q25  level_q50  level_q75  \n",
       "1725                2.0                5.0        2.0        3.0        4.0  \n",
       "282                 7.0               10.0        1.0        2.0        2.0  \n",
       "981                 1.0                1.0        4.0        4.0        4.0  \n",
       "8                   9.0                9.0        1.0        2.0        2.0  "
      ]
     },
     "execution_count": 79,
     "metadata": {},
     "output_type": "execute_result"
    }
   ],
   "source": [
    "agg_street_weekend.sample(4)"
   ]
  },
  {
   "attachments": {},
   "cell_type": "markdown",
   "metadata": {},
   "source": [
    "street_holiday"
   ]
  },
  {
   "cell_type": "code",
   "execution_count": 82,
   "metadata": {},
   "outputs": [],
   "source": [
    "grp_street_holiday = df.groupby('street_holiday')"
   ]
  },
  {
   "cell_type": "code",
   "execution_count": 84,
   "metadata": {},
   "outputs": [],
   "source": [
    "metrics = [np.mean, q25, q50, q75]\n",
    "metrics_name = [\"avg\", \"q25\", \"q50\", \"q75\"]\n",
    "col_func_h = {}\n",
    "col_func_name_h = ['street_holiday']\n",
    "\n",
    "for col in ['total_records', 'level']:\n",
    "  col_func_h[col] = metrics\n",
    "  for metric in metrics_name:\n",
    "    col_func_name_h.append(col+\"_\"+metric)"
   ]
  },
  {
   "cell_type": "code",
   "execution_count": 85,
   "metadata": {},
   "outputs": [],
   "source": [
    "agg_street_holiday = grp_street_holiday.agg(col_func_h).reset_index()\n",
    "agg_street_holiday.columns = col_func_name_h\n",
    "# drop level_avg (it's categorical data)\n",
    "agg_street_holiday = agg_street_holiday.drop(columns=['level_avg'])"
   ]
  },
  {
   "cell_type": "code",
   "execution_count": 86,
   "metadata": {},
   "outputs": [
    {
     "data": {
      "text/html": [
       "<div>\n",
       "<style scoped>\n",
       "    .dataframe tbody tr th:only-of-type {\n",
       "        vertical-align: middle;\n",
       "    }\n",
       "\n",
       "    .dataframe tbody tr th {\n",
       "        vertical-align: top;\n",
       "    }\n",
       "\n",
       "    .dataframe thead th {\n",
       "        text-align: right;\n",
       "    }\n",
       "</style>\n",
       "<table border=\"1\" class=\"dataframe\">\n",
       "  <thead>\n",
       "    <tr style=\"text-align: right;\">\n",
       "      <th></th>\n",
       "      <th>street_holiday</th>\n",
       "      <th>total_records_avg</th>\n",
       "      <th>total_records_q25</th>\n",
       "      <th>total_records_q50</th>\n",
       "      <th>total_records_q75</th>\n",
       "      <th>level_q25</th>\n",
       "      <th>level_q50</th>\n",
       "      <th>level_q75</th>\n",
       "    </tr>\n",
       "  </thead>\n",
       "  <tbody>\n",
       "    <tr>\n",
       "      <th>563</th>\n",
       "      <td>Ir Haji Juanda_0</td>\n",
       "      <td>48.966548</td>\n",
       "      <td>10.0</td>\n",
       "      <td>33.0</td>\n",
       "      <td>76.0</td>\n",
       "      <td>2.0</td>\n",
       "      <td>2.0</td>\n",
       "      <td>3.0</td>\n",
       "    </tr>\n",
       "    <tr>\n",
       "      <th>379</th>\n",
       "      <td>Derwati_0</td>\n",
       "      <td>9.787018</td>\n",
       "      <td>4.0</td>\n",
       "      <td>9.0</td>\n",
       "      <td>13.0</td>\n",
       "      <td>1.0</td>\n",
       "      <td>2.0</td>\n",
       "      <td>2.0</td>\n",
       "    </tr>\n",
       "    <tr>\n",
       "      <th>448</th>\n",
       "      <td>Gang Haji Mesri_1</td>\n",
       "      <td>4.800000</td>\n",
       "      <td>3.0</td>\n",
       "      <td>4.0</td>\n",
       "      <td>7.0</td>\n",
       "      <td>2.0</td>\n",
       "      <td>2.0</td>\n",
       "      <td>3.0</td>\n",
       "    </tr>\n",
       "    <tr>\n",
       "      <th>499</th>\n",
       "      <td>Golf Raya_0</td>\n",
       "      <td>6.515464</td>\n",
       "      <td>2.0</td>\n",
       "      <td>6.0</td>\n",
       "      <td>10.0</td>\n",
       "      <td>2.0</td>\n",
       "      <td>2.0</td>\n",
       "      <td>3.0</td>\n",
       "    </tr>\n",
       "    <tr>\n",
       "      <th>1006</th>\n",
       "      <td>N11 Jenderal Sudirman_0</td>\n",
       "      <td>12.237958</td>\n",
       "      <td>4.0</td>\n",
       "      <td>9.0</td>\n",
       "      <td>17.0</td>\n",
       "      <td>2.0</td>\n",
       "      <td>3.0</td>\n",
       "      <td>3.0</td>\n",
       "    </tr>\n",
       "  </tbody>\n",
       "</table>\n",
       "</div>"
      ],
      "text/plain": [
       "               street_holiday  total_records_avg  total_records_q25  \\\n",
       "563          Ir Haji Juanda_0          48.966548               10.0   \n",
       "379                 Derwati_0           9.787018                4.0   \n",
       "448         Gang Haji Mesri_1           4.800000                3.0   \n",
       "499               Golf Raya_0           6.515464                2.0   \n",
       "1006  N11 Jenderal Sudirman_0          12.237958                4.0   \n",
       "\n",
       "      total_records_q50  total_records_q75  level_q25  level_q50  level_q75  \n",
       "563                33.0               76.0        2.0        2.0        3.0  \n",
       "379                 9.0               13.0        1.0        2.0        2.0  \n",
       "448                 4.0                7.0        2.0        2.0        3.0  \n",
       "499                 6.0               10.0        2.0        2.0        3.0  \n",
       "1006                9.0               17.0        2.0        3.0        3.0  "
      ]
     },
     "execution_count": 86,
     "metadata": {},
     "output_type": "execute_result"
    }
   ],
   "source": [
    "agg_street_holiday.sample(5)"
   ]
  },
  {
   "attachments": {},
   "cell_type": "markdown",
   "metadata": {},
   "source": [
    "### Merge"
   ]
  },
  {
   "cell_type": "code",
   "execution_count": null,
   "metadata": {},
   "outputs": [],
   "source": []
  },
  {
   "cell_type": "code",
   "execution_count": null,
   "metadata": {},
   "outputs": [],
   "source": []
  },
  {
   "cell_type": "code",
   "execution_count": null,
   "metadata": {},
   "outputs": [],
   "source": [
    "pd.concat([df, ], axis=1, join=\"inner\")"
   ]
  },
  {
   "cell_type": "code",
   "execution_count": null,
   "metadata": {},
   "outputs": [],
   "source": []
  },
  {
   "cell_type": "code",
   "execution_count": null,
   "metadata": {},
   "outputs": [],
   "source": []
  },
  {
   "cell_type": "code",
   "execution_count": null,
   "metadata": {},
   "outputs": [],
   "source": []
  },
  {
   "attachments": {},
   "cell_type": "markdown",
   "metadata": {},
   "source": []
  },
  {
   "cell_type": "code",
   "execution_count": null,
   "metadata": {},
   "outputs": [],
   "source": []
  }
 ],
 "metadata": {
  "kernelspec": {
   "display_name": "Python 3",
   "language": "python",
   "name": "python3"
  },
  "language_info": {
   "codemirror_mode": {
    "name": "ipython",
    "version": 3
   },
   "file_extension": ".py",
   "mimetype": "text/x-python",
   "name": "python",
   "nbconvert_exporter": "python",
   "pygments_lexer": "ipython3",
   "version": "3.8.2"
  },
  "orig_nbformat": 4,
  "vscode": {
   "interpreter": {
    "hash": "9650cb4e16cdd4a8e8e2d128bf38d875813998db22a3c986335f89e0cb4d7bb2"
   }
  }
 },
 "nbformat": 4,
 "nbformat_minor": 2
}
